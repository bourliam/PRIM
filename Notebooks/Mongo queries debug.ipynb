{
 "cells": [
  {
   "cell_type": "markdown",
   "metadata": {
    "toc-hr-collapsed": false
   },
   "source": [
    "# Imports"
   ]
  },
  {
   "cell_type": "code",
   "execution_count": 321,
   "metadata": {},
   "outputs": [
    {
     "data": {
      "text/plain": [
       "'Mon Feb 11 11:56:19 2019'"
      ]
     },
     "execution_count": 321,
     "metadata": {},
     "output_type": "execute_result"
    }
   ],
   "source": [
    "import time\n",
    "time.ctime(time.time())"
   ]
  },
  {
   "cell_type": "code",
   "execution_count": 1,
   "metadata": {
    "ExecuteTime": {
     "end_time": "2019-01-14T07:31:19.353391Z",
     "start_time": "2019-01-14T07:31:19.346621Z"
    }
   },
   "outputs": [],
   "source": [
    "# fit notebook width\n",
    "from IPython.display import display, HTML\n",
    "# display(\n",
    "#     HTML(data=\"\"\"\n",
    "# <style>\n",
    "#     div#notebook-container    { width: 95%; }\n",
    "#     div#menubar-container     { width: 65%; }\n",
    "#     div#maintoolbar-container { width: 99%; }\n",
    "# </style>\n",
    "# \"\"\"))\n",
    "from ipywidgets import interact, interactive, fixed, interact_manual\n",
    "import ipywidgets as widgets\n",
    "from importlib import reload\n",
    "\n",
    "# MONGODB\n",
    "import pymongo\n",
    "from pymongo import MongoClient\n",
    "# # Ploting\n",
    "import matplotlib.pyplot as plt\n",
    "# import ipywidgets as widgets\n",
    "# from vincenty import vincenty\n",
    "# # Data and processing\n",
    "# import swifter\n",
    "# import datetime\n",
    "import numpy as np\n",
    "import pandas as pd\n",
    "# import numba\n",
    "# import scipy\n",
    "# from sklearn.neighbors import KDTree\n",
    "# # Printing\n",
    "# import pprint\n",
    "\n",
    "import sys\n",
    "sys.path.append('git/PRIM/source/')\n",
    "\n",
    "import CustomUtils\n",
    "import Trips\n",
    "import DataProcessing\n",
    "import Plotting\n",
    "import TripsProcessing\n",
    "import OsmProcessing\n",
    "import ipyparallel as ipp\n",
    "\n",
    "# try :    \n",
    "#     rc = ipp.Client()\n",
    "#     parll = rc[:]\n",
    "# except  ipp.error.TimeoutError:\n",
    "#     print('ipyparallel not loaded')\n",
    "%load_ext autoreload\n",
    "%aimport pandas, numpy, matplotlib, seaborn, os, sys, ipyparallel, pprint, folium, datetime\n",
    "%autoreload 2"
   ]
  },
  {
   "cell_type": "code",
   "execution_count": 3,
   "metadata": {},
   "outputs": [],
   "source": [
    "client = MongoClient()"
   ]
  },
  {
   "cell_type": "code",
   "execution_count": 312,
   "metadata": {},
   "outputs": [],
   "source": [
    "segments=OsmProcessing.getSegments(client.osm.ways)\n",
    "\n",
    "segments = OsmProcessing.setOneWay(segments)"
   ]
  },
  {
   "cell_type": "code",
   "execution_count": 337,
   "metadata": {},
   "outputs": [
    {
     "data": {
      "text/plain": [
       "1549891378.7028348"
      ]
     },
     "execution_count": 337,
     "metadata": {},
     "output_type": "execute_result"
    }
   ],
   "source": [
    "time.time()-60*5"
   ]
  },
  {
   "cell_type": "code",
   "execution_count": 343,
   "metadata": {},
   "outputs": [],
   "source": [
    "minsRange=[time.ctime(time.time()-xseconds).split() for xseconds in range(-60*5,0,1)]"
   ]
  },
  {
   "cell_type": "code",
   "execution_count": 339,
   "metadata": {},
   "outputs": [
    {
     "data": {
      "text/plain": [
       "['Mon', 'Feb', '11', '14:23:09', '2019']"
      ]
     },
     "execution_count": 339,
     "metadata": {},
     "output_type": "execute_result"
    }
   ],
   "source": [
    "arrayTime"
   ]
  },
  {
   "cell_type": "code",
   "execution_count": null,
   "metadata": {},
   "outputs": [],
   "source": [
    "str."
   ]
  },
  {
   "cell_type": "code",
   "execution_count": 332,
   "metadata": {},
   "outputs": [
    {
     "ename": "TypeError",
     "evalue": "sum expected at most 2 arguments, got 3",
     "output_type": "error",
     "traceback": [
      "\u001b[0;31m---------------------------------------------------------------------------\u001b[0m",
      "\u001b[0;31mTypeError\u001b[0m                                 Traceback (most recent call last)",
      "\u001b[0;32m<ipython-input-332-0a9faf89faa3>\u001b[0m in \u001b[0;36m<module>\u001b[0;34m()\u001b[0m\n\u001b[0;32m----> 1\u001b[0;31m \u001b[0msum\u001b[0m\u001b[0;34m(\u001b[0m\u001b[0;34m*\u001b[0m\u001b[0marrayTime\u001b[0m\u001b[0;34m[\u001b[0m\u001b[0;36m3\u001b[0m\u001b[0;34m]\u001b[0m\u001b[0;34m.\u001b[0m\u001b[0msplit\u001b[0m\u001b[0;34m(\u001b[0m\u001b[0;34m':'\u001b[0m\u001b[0;34m)\u001b[0m\u001b[0;34m)\u001b[0m\u001b[0;34m\u001b[0m\u001b[0;34m\u001b[0m\u001b[0m\n\u001b[0m",
      "\u001b[0;31mTypeError\u001b[0m: sum expected at most 2 arguments, got 3"
     ]
    }
   ],
   "source": [
    "sum(*arrayTime[3].split(':'))"
   ]
  },
  {
   "cell_type": "code",
   "execution_count": 387,
   "metadata": {},
   "outputs": [
    {
     "data": {
      "text/plain": [
       "'https://www4.bison-fute.gouv.fr/data/data-20190206-175558/background/1.0.0/trafic/5/45/153.png'"
      ]
     },
     "execution_count": 387,
     "metadata": {},
     "output_type": "execute_result"
    }
   ],
   "source": [
    "\"https://www4.bison-fute.gouv.fr/data/data-20190206-175558/background/1.0.0/trafic/\"+trafic[0]"
   ]
  },
  {
   "cell_type": "code",
   "execution_count": 401,
   "metadata": {},
   "outputs": [
    {
     "data": {
      "text/plain": [
       "['Mon, 11 Feb 2019 16:06:45 GMT',\n",
       " 'Apache',\n",
       " 'Thu, 24 Aug 2017 15:13:32 GMT',\n",
       " '\"63-5578145807f00\"',\n",
       " '99',\n",
       " 'image/png',\n",
       " '*',\n",
       " 'close']"
      ]
     },
     "execution_count": 401,
     "metadata": {},
     "output_type": "execute_result"
    }
   ],
   "source": [
    "_,msg = urllib.request.urlretrieve(\"https://www4.bison-fute.gouv.fr/data/data-20190206-175558/background/1.0.0/trafic/\"+trafic[0])\n",
    "\n",
    "msg.values()"
   ]
  },
  {
   "cell_type": "code",
   "execution_count": 386,
   "metadata": {},
   "outputs": [
    {
     "data": {
      "text/plain": [
       "'Date: Mon, 11 Feb 2019 13:44:43 GMT\\nServer: Apache\\nLast-Modified: Thu, 24 Aug 2017 15:13:32 GMT\\nETag: \"63-5578145807f00\"\\nContent-Length: 99\\nAccess-Control-Allow-Origin: *\\nAge: 566\\nConnection: close\\nContent-Type: image/png\\n\\n'"
      ]
     },
     "execution_count": 386,
     "metadata": {},
     "output_type": "execute_result"
    }
   ],
   "source": [
    "msg.as_string()"
   ]
  },
  {
   "cell_type": "code",
   "execution_count": 400,
   "metadata": {},
   "outputs": [
    {
     "name": "stdout",
     "output_type": "stream",
     "text": [
      "99\n"
     ]
    },
    {
     "data": {
      "text/plain": [
       "['Mon, 11 Feb 2019 16:06:42 GMT',\n",
       " 'Apache',\n",
       " 'Thu, 24 Aug 2017 15:13:32 GMT',\n",
       " '\"63-5578145807f00\"',\n",
       " '99',\n",
       " 'image/png',\n",
       " '*',\n",
       " 'close']"
      ]
     },
     "execution_count": 400,
     "metadata": {},
     "output_type": "execute_result"
    }
   ],
   "source": [
    "path,msg = urllib.request.urlretrieve(\"https://www4.bison-fute.gouv.fr/data/data-20190211-134015/background/1.0.0/trafic/\"+trafic[0])\n",
    "print(os.path.getsize(path))\n",
    "msg.values()"
   ]
  },
  {
   "cell_type": "code",
   "execution_count": 398,
   "metadata": {},
   "outputs": [],
   "source": [
    "import os"
   ]
  },
  {
   "cell_type": "code",
   "execution_count": null,
   "metadata": {},
   "outputs": [],
   "source": [
    "os.siz"
   ]
  },
  {
   "cell_type": "code",
   "execution_count": 345,
   "metadata": {},
   "outputs": [
    {
     "data": {
      "text/plain": [
       "['20190211-143635',\n",
       " '20190211-143634',\n",
       " '20190211-143633',\n",
       " '20190211-143632',\n",
       " '20190211-143631',\n",
       " '20190211-143630',\n",
       " '20190211-143629',\n",
       " '20190211-143628',\n",
       " '20190211-143627',\n",
       " '20190211-143626',\n",
       " '20190211-143625',\n",
       " '20190211-143624',\n",
       " '20190211-143623',\n",
       " '20190211-143622',\n",
       " '20190211-143621',\n",
       " '20190211-143620',\n",
       " '20190211-143619',\n",
       " '20190211-143618',\n",
       " '20190211-143617',\n",
       " '20190211-143616',\n",
       " '20190211-143615',\n",
       " '20190211-143614',\n",
       " '20190211-143613',\n",
       " '20190211-143612',\n",
       " '20190211-143611',\n",
       " '20190211-143610',\n",
       " '20190211-143609',\n",
       " '20190211-143608',\n",
       " '20190211-143607',\n",
       " '20190211-143606',\n",
       " '20190211-143605',\n",
       " '20190211-143604',\n",
       " '20190211-143603',\n",
       " '20190211-143602',\n",
       " '20190211-143601',\n",
       " '20190211-143600',\n",
       " '20190211-143559',\n",
       " '20190211-143558',\n",
       " '20190211-143557',\n",
       " '20190211-143556',\n",
       " '20190211-143555',\n",
       " '20190211-143554',\n",
       " '20190211-143553',\n",
       " '20190211-143552',\n",
       " '20190211-143551',\n",
       " '20190211-143550',\n",
       " '20190211-143549',\n",
       " '20190211-143548',\n",
       " '20190211-143547',\n",
       " '20190211-143546',\n",
       " '20190211-143545',\n",
       " '20190211-143544',\n",
       " '20190211-143543',\n",
       " '20190211-143542',\n",
       " '20190211-143541',\n",
       " '20190211-143540',\n",
       " '20190211-143539',\n",
       " '20190211-143538',\n",
       " '20190211-143537',\n",
       " '20190211-143536',\n",
       " '20190211-143535',\n",
       " '20190211-143534',\n",
       " '20190211-143533',\n",
       " '20190211-143532',\n",
       " '20190211-143531',\n",
       " '20190211-143530',\n",
       " '20190211-143529',\n",
       " '20190211-143528',\n",
       " '20190211-143527',\n",
       " '20190211-143526',\n",
       " '20190211-143525',\n",
       " '20190211-143524',\n",
       " '20190211-143523',\n",
       " '20190211-143522',\n",
       " '20190211-143521',\n",
       " '20190211-143520',\n",
       " '20190211-143519',\n",
       " '20190211-143518',\n",
       " '20190211-143517',\n",
       " '20190211-143516',\n",
       " '20190211-143515',\n",
       " '20190211-143514',\n",
       " '20190211-143513',\n",
       " '20190211-143512',\n",
       " '20190211-143511',\n",
       " '20190211-143510',\n",
       " '20190211-143509',\n",
       " '20190211-143508',\n",
       " '20190211-143507',\n",
       " '20190211-143506',\n",
       " '20190211-143505',\n",
       " '20190211-143504',\n",
       " '20190211-143503',\n",
       " '20190211-143502',\n",
       " '20190211-143501',\n",
       " '20190211-143500',\n",
       " '20190211-143459',\n",
       " '20190211-143458',\n",
       " '20190211-143457',\n",
       " '20190211-143456',\n",
       " '20190211-143455',\n",
       " '20190211-143454',\n",
       " '20190211-143453',\n",
       " '20190211-143452',\n",
       " '20190211-143451',\n",
       " '20190211-143450',\n",
       " '20190211-143449',\n",
       " '20190211-143448',\n",
       " '20190211-143447',\n",
       " '20190211-143446',\n",
       " '20190211-143445',\n",
       " '20190211-143444',\n",
       " '20190211-143443',\n",
       " '20190211-143442',\n",
       " '20190211-143441',\n",
       " '20190211-143440',\n",
       " '20190211-143439',\n",
       " '20190211-143438',\n",
       " '20190211-143437',\n",
       " '20190211-143436',\n",
       " '20190211-143435',\n",
       " '20190211-143434',\n",
       " '20190211-143433',\n",
       " '20190211-143432',\n",
       " '20190211-143431',\n",
       " '20190211-143430',\n",
       " '20190211-143429',\n",
       " '20190211-143428',\n",
       " '20190211-143427',\n",
       " '20190211-143426',\n",
       " '20190211-143425',\n",
       " '20190211-143424',\n",
       " '20190211-143423',\n",
       " '20190211-143422',\n",
       " '20190211-143421',\n",
       " '20190211-143420',\n",
       " '20190211-143419',\n",
       " '20190211-143418',\n",
       " '20190211-143417',\n",
       " '20190211-143416',\n",
       " '20190211-143415',\n",
       " '20190211-143414',\n",
       " '20190211-143413',\n",
       " '20190211-143412',\n",
       " '20190211-143411',\n",
       " '20190211-143410',\n",
       " '20190211-143409',\n",
       " '20190211-143408',\n",
       " '20190211-143407',\n",
       " '20190211-143406',\n",
       " '20190211-143405',\n",
       " '20190211-143404',\n",
       " '20190211-143403',\n",
       " '20190211-143402',\n",
       " '20190211-143401',\n",
       " '20190211-143400',\n",
       " '20190211-143359',\n",
       " '20190211-143358',\n",
       " '20190211-143357',\n",
       " '20190211-143356',\n",
       " '20190211-143355',\n",
       " '20190211-143354',\n",
       " '20190211-143353',\n",
       " '20190211-143352',\n",
       " '20190211-143351',\n",
       " '20190211-143350',\n",
       " '20190211-143349',\n",
       " '20190211-143348',\n",
       " '20190211-143347',\n",
       " '20190211-143346',\n",
       " '20190211-143345',\n",
       " '20190211-143344',\n",
       " '20190211-143343',\n",
       " '20190211-143342',\n",
       " '20190211-143341',\n",
       " '20190211-143340',\n",
       " '20190211-143339',\n",
       " '20190211-143338',\n",
       " '20190211-143337',\n",
       " '20190211-143336',\n",
       " '20190211-143335',\n",
       " '20190211-143334',\n",
       " '20190211-143333',\n",
       " '20190211-143332',\n",
       " '20190211-143331',\n",
       " '20190211-143330',\n",
       " '20190211-143329',\n",
       " '20190211-143328',\n",
       " '20190211-143327',\n",
       " '20190211-143326',\n",
       " '20190211-143325',\n",
       " '20190211-143324',\n",
       " '20190211-143323',\n",
       " '20190211-143322',\n",
       " '20190211-143321',\n",
       " '20190211-143320',\n",
       " '20190211-143319',\n",
       " '20190211-143318',\n",
       " '20190211-143317',\n",
       " '20190211-143316',\n",
       " '20190211-143315',\n",
       " '20190211-143314',\n",
       " '20190211-143313',\n",
       " '20190211-143312',\n",
       " '20190211-143311',\n",
       " '20190211-143310',\n",
       " '20190211-143309',\n",
       " '20190211-143308',\n",
       " '20190211-143307',\n",
       " '20190211-143306',\n",
       " '20190211-143305',\n",
       " '20190211-143304',\n",
       " '20190211-143303',\n",
       " '20190211-143302',\n",
       " '20190211-143301',\n",
       " '20190211-143300',\n",
       " '20190211-143259',\n",
       " '20190211-143258',\n",
       " '20190211-143257',\n",
       " '20190211-143256',\n",
       " '20190211-143255',\n",
       " '20190211-143254',\n",
       " '20190211-143253',\n",
       " '20190211-143252',\n",
       " '20190211-143251',\n",
       " '20190211-143250',\n",
       " '20190211-143249',\n",
       " '20190211-143248',\n",
       " '20190211-143247',\n",
       " '20190211-143246',\n",
       " '20190211-143245',\n",
       " '20190211-143244',\n",
       " '20190211-143243',\n",
       " '20190211-143242',\n",
       " '20190211-143241',\n",
       " '20190211-143240',\n",
       " '20190211-143239',\n",
       " '20190211-143238',\n",
       " '20190211-143237',\n",
       " '20190211-143236',\n",
       " '20190211-143235',\n",
       " '20190211-143234',\n",
       " '20190211-143233',\n",
       " '20190211-143232',\n",
       " '20190211-143231',\n",
       " '20190211-143230',\n",
       " '20190211-143229',\n",
       " '20190211-143228',\n",
       " '20190211-143227',\n",
       " '20190211-143226',\n",
       " '20190211-143225',\n",
       " '20190211-143224',\n",
       " '20190211-143223',\n",
       " '20190211-143222',\n",
       " '20190211-143221',\n",
       " '20190211-143220',\n",
       " '20190211-143219',\n",
       " '20190211-143218',\n",
       " '20190211-143217',\n",
       " '20190211-143216',\n",
       " '20190211-143215',\n",
       " '20190211-143214',\n",
       " '20190211-143213',\n",
       " '20190211-143212',\n",
       " '20190211-143211',\n",
       " '20190211-143210',\n",
       " '20190211-143209',\n",
       " '20190211-143208',\n",
       " '20190211-143207',\n",
       " '20190211-143206',\n",
       " '20190211-143205',\n",
       " '20190211-143204',\n",
       " '20190211-143203',\n",
       " '20190211-143202',\n",
       " '20190211-143201',\n",
       " '20190211-143200',\n",
       " '20190211-143159',\n",
       " '20190211-143158',\n",
       " '20190211-143157',\n",
       " '20190211-143156',\n",
       " '20190211-143155',\n",
       " '20190211-143154',\n",
       " '20190211-143153',\n",
       " '20190211-143152',\n",
       " '20190211-143151',\n",
       " '20190211-143150',\n",
       " '20190211-143149',\n",
       " '20190211-143148',\n",
       " '20190211-143147',\n",
       " '20190211-143146',\n",
       " '20190211-143145',\n",
       " '20190211-143144',\n",
       " '20190211-143143',\n",
       " '20190211-143142',\n",
       " '20190211-143141',\n",
       " '20190211-143140',\n",
       " '20190211-143139',\n",
       " '20190211-143138',\n",
       " '20190211-143137',\n",
       " '20190211-143136']"
      ]
     },
     "execution_count": 345,
     "metadata": {},
     "output_type": "execute_result"
    }
   ],
   "source": [
    "list(map(lambda arrayTime : \"201902\"+arrayTime[2]+\"-\"+''.join(arrayTime[3].split(':')),minsRange))"
   ]
  },
  {
   "cell_type": "code",
   "execution_count": null,
   "metadata": {},
   "outputs": [],
   "source": [
    "def checkDataAvailability(secs):\n",
    "    "
   ]
  },
  {
   "cell_type": "code",
   "execution_count": 347,
   "metadata": {},
   "outputs": [],
   "source": [
    "import os\n",
    "\n",
    "import time\n",
    "\n",
    "import urllib.request\n"
   ]
  },
  {
   "cell_type": "code",
   "execution_count": 351,
   "metadata": {},
   "outputs": [],
   "source": [
    "    trafic = [str(x)+'/'+str(y)+'/'+str(z)+'.png' for x in range(5,6,1) for y in range(45,50,1) for z in range(153,156,1)]\n"
   ]
  },
  {
   "cell_type": "code",
   "execution_count": 353,
   "metadata": {},
   "outputs": [
    {
     "data": {
      "text/plain": [
       "'5/45/153.png'"
      ]
     },
     "execution_count": 353,
     "metadata": {},
     "output_type": "execute_result"
    }
   ],
   "source": []
  },
  {
   "cell_type": "code",
   "execution_count": null,
   "metadata": {},
   "outputs": [],
   "source": [
    "\n",
    "while True:\n",
    "    now = time.ctime(time.time())[:-8]\n",
    "    if int(now[-5:-3]) == 21 :\n",
    "        time.sleep(60*60*9)\n",
    "        continue\n",
    "    france_raster = [str(x)+'/'+str(y)+'/'+str(z)+'.jpg' for x in range(5,6,1) for y in range(45,50,1) for z in range(153,156,1)]\n",
    "    trafic = [str(x)+'/'+str(y)+'/'+str(z)+'.png' for x in range(5,6,1) for y in range(45,50,1) for z in range(153,156,1)]\n",
    "    \n",
    "    for dirr in france_raster :\n",
    "        os.makedirs('imgs/'+now+'/france_raster/'+dirr[:-4])\n",
    "\n",
    "    for dirr in trafic :\n",
    "        os.makedirs('imgs/'+now+'/trafic/'+dirr[:-4])\n",
    "    #[urllib.request.urlretrieve(\"https://www2.bison-fute.gouv.fr/background/1.0.0/france_raster/\"+name, 'imgs/'+now+\"/france_raster/\"+name) for name in france_raster];\n",
    "    [urllib.request.urlretrieve(\"https://www4.bison-fute.gouv.fr/data/data-20190206-175558/background/1.0.0/trafic/\"+name, 'imgs/'+now+\"/trafic/\"+name) for name in trafic];\n",
    "    time.sleep(5*60)"
   ]
  }
 ],
 "metadata": {
  "kernelspec": {
   "display_name": "python37",
   "language": "python",
   "name": "python37"
  },
  "language_info": {
   "codemirror_mode": {
    "name": "ipython",
    "version": 3
   },
   "file_extension": ".py",
   "mimetype": "text/x-python",
   "name": "python",
   "nbconvert_exporter": "python",
   "pygments_lexer": "ipython3",
   "version": "3.7.2"
  },
  "notify_time": "10",
  "toc-showtags": false,
  "varInspector": {
   "cols": {
    "lenName": 16,
    "lenType": 16,
    "lenVar": 40
   },
   "kernels_config": {
    "python": {
     "delete_cmd_postfix": "",
     "delete_cmd_prefix": "del ",
     "library": "var_list.py",
     "varRefreshCmd": "print(var_dic_list())"
    },
    "r": {
     "delete_cmd_postfix": ") ",
     "delete_cmd_prefix": "rm(",
     "library": "var_list.r",
     "varRefreshCmd": "cat(var_dic_list()) "
    }
   },
   "position": {
    "height": "715px",
    "left": "1154px",
    "right": "20px",
    "top": "111px",
    "width": "358px"
   },
   "types_to_exclude": [
    "module",
    "function",
    "builtin_function_or_method",
    "instance",
    "_Feature"
   ],
   "window_display": false
  }
 },
 "nbformat": 4,
 "nbformat_minor": 2
}

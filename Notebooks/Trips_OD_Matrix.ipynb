{
 "cells": [
  {
   "cell_type": "markdown",
   "metadata": {
    "toc-hr-collapsed": false
   },
   "source": [
    "# Imports"
   ]
  },
  {
   "cell_type": "code",
   "execution_count": 1,
   "metadata": {
    "ExecuteTime": {
     "end_time": "2019-01-14T07:31:19.353391Z",
     "start_time": "2019-01-14T07:31:19.346621Z"
    }
   },
   "outputs": [],
   "source": [
    "# fit notebook width\n",
    "from IPython.display import display, HTML\n",
    "# display(\n",
    "#     HTML(data=\"\"\"\n",
    "# <style>\n",
    "#     div#notebook-container    { width: 95%; }\n",
    "#     div#menubar-container     { width: 65%; }\n",
    "#     div#maintoolbar-container { width: 99%; }\n",
    "# </style>\n",
    "# \"\"\"))\n",
    "from ipywidgets import interact, interactive, fixed, interact_manual\n",
    "import ipywidgets as widgets\n",
    "from importlib import reload\n",
    "\n",
    "# MONGODB\n",
    "import pymongo\n",
    "from pymongo import MongoClient\n",
    "# # Ploting\n",
    "import matplotlib.pyplot as plt\n",
    "# import ipywidgets as widgets\n",
    "# from vincenty import vincenty\n",
    "# # Data and processing\n",
    "# import swifter\n",
    "# import datetime\n",
    "import numpy as np\n",
    "import pandas as pd\n",
    "# import numba\n",
    "# import scipy\n",
    "# from sklearn.neighbors import KDTree\n",
    "# # Printing\n",
    "# import pprint\n",
    "\n",
    "import sys\n",
    "sys.path.append('git/PRIM/source/')\n",
    "\n",
    "import CustomUtils\n",
    "import Trips\n",
    "import DataProcessing\n",
    "import Plotting\n",
    "import TripsProcessing\n",
    "import OsmProcessing\n",
    "\n",
    "%load_ext autoreload\n",
    "%aimport pandas, numpy, matplotlib, seaborn, os, sys, ipyparallel, pprint, folium, datetime\n",
    "%autoreload 2"
   ]
  },
  {
   "cell_type": "markdown",
   "metadata": {
    "toc-hr-collapsed": false
   },
   "source": [
    "# Load Raw Data"
   ]
  },
  {
   "cell_type": "markdown",
   "metadata": {
    "toc-hr-collapsed": true
   },
   "source": [
    "## Inits"
   ]
  },
  {
   "cell_type": "code",
   "execution_count": 2,
   "metadata": {
    "ExecuteTime": {
     "end_time": "2019-01-14T07:31:36.641920Z",
     "start_time": "2019-01-14T07:31:36.591448Z"
    }
   },
   "outputs": [],
   "source": [
    "# mongo client\n",
    "client = MongoClient()\n",
    "# iris collection \"db.iris_geo_coords\"\n",
    "irisCollection = client.congestion.iris_geo_coords\n",
    "# coyote data \"db.coyote\"\n",
    "coyoteData = client.congestion.coyote2"
   ]
  },
  {
   "cell_type": "markdown",
   "metadata": {},
   "source": [
    "#### IRIS Data"
   ]
  },
  {
   "cell_type": "code",
   "execution_count": null,
   "metadata": {
    "ExecuteTime": {
     "end_time": "2019-01-14T07:31:41.144026Z",
     "start_time": "2019-01-14T07:31:39.681664Z"
    },
    "scrolled": true
   },
   "outputs": [
    {
     "data": {
      "text/html": [
       "<div>\n",
       "<style scoped>\n",
       "    .dataframe tbody tr th:only-of-type {\n",
       "        vertical-align: middle;\n",
       "    }\n",
       "\n",
       "    .dataframe tbody tr th {\n",
       "        vertical-align: top;\n",
       "    }\n",
       "\n",
       "    .dataframe thead th {\n",
       "        text-align: right;\n",
       "    }\n",
       "</style>\n",
       "<table border=\"1\" class=\"dataframe\">\n",
       "  <thead>\n",
       "    <tr style=\"text-align: right;\">\n",
       "      <th></th>\n",
       "      <th>INSEE_code_commune</th>\n",
       "      <th>INSEE_iris_code</th>\n",
       "      <th>_id</th>\n",
       "      <th>code_dept</th>\n",
       "      <th>code_region</th>\n",
       "      <th>commune_name</th>\n",
       "      <th>iris_code</th>\n",
       "      <th>iris_name</th>\n",
       "      <th>loc</th>\n",
       "    </tr>\n",
       "  </thead>\n",
       "  <tbody>\n",
       "    <tr>\n",
       "      <th>0</th>\n",
       "      <td>35097</td>\n",
       "      <td>350970000</td>\n",
       "      <td>5a78810206934d227f33e962</td>\n",
       "      <td>35</td>\n",
       "      <td>53</td>\n",
       "      <td>Domalain</td>\n",
       "      <td>0000</td>\n",
       "      <td>Domalain</td>\n",
       "      <td>{'type': 'Polygon', 'coordinates': [[[48.03916...</td>\n",
       "    </tr>\n",
       "    <tr>\n",
       "      <th>1</th>\n",
       "      <td>35045</td>\n",
       "      <td>350450000</td>\n",
       "      <td>5a78810f06934d227f33eb0b</td>\n",
       "      <td>35</td>\n",
       "      <td>53</td>\n",
       "      <td>Bruc-sur-Aff</td>\n",
       "      <td>0000</td>\n",
       "      <td>Bruc-sur-Aff</td>\n",
       "      <td>{'type': 'Polygon', 'coordinates': [[[47.83375...</td>\n",
       "    </tr>\n",
       "    <tr>\n",
       "      <th>2</th>\n",
       "      <td>35352</td>\n",
       "      <td>353520101</td>\n",
       "      <td>5a78813106934d227f33ef2d</td>\n",
       "      <td>35</td>\n",
       "      <td>53</td>\n",
       "      <td>Vern-sur-Seiche</td>\n",
       "      <td>0101</td>\n",
       "      <td>Nord</td>\n",
       "      <td>{'type': 'Polygon', 'coordinates': [[[48.06983...</td>\n",
       "    </tr>\n",
       "  </tbody>\n",
       "</table>\n",
       "</div>"
      ],
      "text/plain": [
       "  INSEE_code_commune INSEE_iris_code                       _id code_dept  \\\n",
       "0              35097       350970000  5a78810206934d227f33e962        35   \n",
       "1              35045       350450000  5a78810f06934d227f33eb0b        35   \n",
       "2              35352       353520101  5a78813106934d227f33ef2d        35   \n",
       "\n",
       "  code_region     commune_name iris_code     iris_name  \\\n",
       "0          53         Domalain      0000      Domalain   \n",
       "1          53     Bruc-sur-Aff      0000  Bruc-sur-Aff   \n",
       "2          53  Vern-sur-Seiche      0101          Nord   \n",
       "\n",
       "                                                 loc  \n",
       "0  {'type': 'Polygon', 'coordinates': [[[48.03916...  \n",
       "1  {'type': 'Polygon', 'coordinates': [[[47.83375...  \n",
       "2  {'type': 'Polygon', 'coordinates': [[[48.06983...  "
      ]
     },
     "execution_count": 3,
     "metadata": {},
     "output_type": "execute_result"
    }
   ],
   "source": [
    "illeEtVilaineIRIS = DataProcessing.builIrisDataFrame(irisCollection)\n",
    "illeEtVilaineIRIS.head(3)"
   ]
  },
  {
   "cell_type": "markdown",
   "metadata": {},
   "source": [
    "#### Logs Data"
   ]
  },
  {
   "cell_type": "code",
   "execution_count": null,
   "metadata": {
    "ExecuteTime": {
     "end_time": "2019-01-14T07:41:59.917425Z",
     "start_time": "2019-01-14T07:31:55.331290Z"
    }
   },
   "outputs": [
    {
     "data": {
      "text/html": [
       "<div>\n",
       "<style scoped>\n",
       "    .dataframe tbody tr th:only-of-type {\n",
       "        vertical-align: middle;\n",
       "    }\n",
       "\n",
       "    .dataframe tbody tr th {\n",
       "        vertical-align: top;\n",
       "    }\n",
       "\n",
       "    .dataframe thead th {\n",
       "        text-align: right;\n",
       "    }\n",
       "</style>\n",
       "<table border=\"1\" class=\"dataframe\">\n",
       "  <thead>\n",
       "    <tr style=\"text-align: right;\">\n",
       "      <th></th>\n",
       "      <th>_id</th>\n",
       "      <th>heading_road</th>\n",
       "      <th>id</th>\n",
       "      <th>loc</th>\n",
       "      <th>matching_road</th>\n",
       "      <th>speed</th>\n",
       "      <th>time</th>\n",
       "    </tr>\n",
       "  </thead>\n",
       "  <tbody>\n",
       "    <tr>\n",
       "      <th>2673938</th>\n",
       "      <td>5beaa3722958a75413a7a9ff</td>\n",
       "      <td>0</td>\n",
       "      <td>0918c9d7de15f455fc7c9af133eeb15e</td>\n",
       "      <td>{'coordinates': [-1.27828, 48.07563], 'type': ...</td>\n",
       "      <td>633941610</td>\n",
       "      <td>100</td>\n",
       "      <td>2018-11-13 10:58:52</td>\n",
       "    </tr>\n",
       "    <tr>\n",
       "      <th>3184202</th>\n",
       "      <td>5beaa3722958a75413a7a606</td>\n",
       "      <td>1</td>\n",
       "      <td>d6f6504ea06ac5c040471ab90de764e6</td>\n",
       "      <td>{'coordinates': [-1.70526, 48.10529], 'type': ...</td>\n",
       "      <td>5097960</td>\n",
       "      <td>0</td>\n",
       "      <td>2018-11-13 10:58:52</td>\n",
       "    </tr>\n",
       "    <tr>\n",
       "      <th>3278974</th>\n",
       "      <td>5beaa3722958a75413a7aa92</td>\n",
       "      <td>0</td>\n",
       "      <td>dd36f303e9318a993a77fae87f81443c</td>\n",
       "      <td>{'coordinates': [-1.71984, 48.18127], 'type': ...</td>\n",
       "      <td>111850247</td>\n",
       "      <td>103</td>\n",
       "      <td>2018-11-13 10:58:52</td>\n",
       "    </tr>\n",
       "  </tbody>\n",
       "</table>\n",
       "</div>"
      ],
      "text/plain": [
       "                              _id  heading_road  \\\n",
       "2673938  5beaa3722958a75413a7a9ff             0   \n",
       "3184202  5beaa3722958a75413a7a606             1   \n",
       "3278974  5beaa3722958a75413a7aa92             0   \n",
       "\n",
       "                                       id  \\\n",
       "2673938  0918c9d7de15f455fc7c9af133eeb15e   \n",
       "3184202  d6f6504ea06ac5c040471ab90de764e6   \n",
       "3278974  dd36f303e9318a993a77fae87f81443c   \n",
       "\n",
       "                                                       loc matching_road  \\\n",
       "2673938  {'coordinates': [-1.27828, 48.07563], 'type': ...     633941610   \n",
       "3184202  {'coordinates': [-1.70526, 48.10529], 'type': ...       5097960   \n",
       "3278974  {'coordinates': [-1.71984, 48.18127], 'type': ...     111850247   \n",
       "\n",
       "         speed                time  \n",
       "2673938    100 2018-11-13 10:58:52  \n",
       "3184202      0 2018-11-13 10:58:52  \n",
       "3278974    103 2018-11-13 10:58:52  "
      ]
     },
     "execution_count": 4,
     "metadata": {},
     "output_type": "execute_result"
    }
   ],
   "source": [
    "df = DataProcessing.loadProjectedRawData(coyoteData, projection={\n",
    "                                'country': 0, 'heading': 0, 'road': 0, 'INSEE_iris_code': 0, 'type': 0})\n",
    "df.head(3)"
   ]
  },
  {
   "cell_type": "markdown",
   "metadata": {
    "toc-hr-collapsed": false
   },
   "source": [
    "# Data Processing"
   ]
  },
  {
   "cell_type": "markdown",
   "metadata": {},
   "source": [
    "#### Building trips"
   ]
  },
  {
   "cell_type": "code",
   "execution_count": null,
   "metadata": {},
   "outputs": [
    {
     "name": "stdout",
     "output_type": "stream",
     "text": [
      "grouping data points by car : ....\n",
      "\n",
      "grouping data points by car : Done\n",
      "\n",
      "took 114.1 s\n",
      "extracting trips : ....\n",
      "\n"
     ]
    }
   ],
   "source": [
    "trips = Trips.buildTripsTuple(df)"
   ]
  },
  {
   "cell_type": "markdown",
   "metadata": {},
   "source": [
    "#### Filtering Trips"
   ]
  },
  {
   "cell_type": "code",
   "execution_count": null,
   "metadata": {
    "ExecuteTime": {
     "end_time": "2019-01-14T16:05:46.631684Z",
     "start_time": "2019-01-14T16:04:58.857154Z"
    },
    "scrolled": true
   },
   "outputs": [],
   "source": [
    "filterdTrips = Trips.filterTrips(\n",
    "    trips, irisFilter=illeEtVilaineIRIS.INSEE_iris_code.values,minDistance = 0.2,minDuration=60)\n",
    "# filterdTrips = Trips.filterTrips(\n",
    "#     trips, irisFilter=['N/A'])\n",
    "# filterdTrips.head(1)"
   ]
  },
  {
   "cell_type": "code",
   "execution_count": null,
   "metadata": {},
   "outputs": [],
   "source": []
  },
  {
   "cell_type": "code",
   "execution_count": 13,
   "metadata": {},
   "outputs": [
    {
     "data": {
      "text/plain": [
       "87155"
      ]
     },
     "execution_count": 13,
     "metadata": {},
     "output_type": "execute_result"
    }
   ],
   "source": [
    "len(filterdTrips)"
   ]
  },
  {
   "cell_type": "code",
   "execution_count": null,
   "metadata": {
    "ExecuteTime": {
     "end_time": "2019-01-14T16:05:46.693773Z",
     "start_time": "2019-01-14T16:05:46.637172Z"
    }
   },
   "outputs": [],
   "source": [
    "filterdTrips.head(2)"
   ]
  },
  {
   "cell_type": "markdown",
   "metadata": {},
   "source": [
    "#### Plotting Trips"
   ]
  },
  {
   "cell_type": "code",
   "execution_count": null,
   "metadata": {
    "ExecuteTime": {
     "end_time": "2019-01-14T08:45:27.231902Z",
     "start_time": "2019-01-14T08:45:25.934214Z"
    },
    "scrolled": true
   },
   "outputs": [],
   "source": [
    "interact(\n",
    "    Plotting.printmap,\n",
    "    trips=fixed(filterdTrips),\n",
    "    carID=widgets.Dropdown(options=list(filterdTrips.id.unique())))"
   ]
  },
  {
   "cell_type": "markdown",
   "metadata": {
    "toc-hr-collapsed": false
   },
   "source": [
    "# OD Matrix"
   ]
  },
  {
   "cell_type": "markdown",
   "metadata": {},
   "source": [
    "#### Building OD Matrix "
   ]
  },
  {
   "cell_type": "code",
   "execution_count": null,
   "metadata": {
    "ExecuteTime": {
     "end_time": "2019-01-14T08:45:50.292077Z",
     "start_time": "2019-01-14T08:45:44.452864Z"
    },
    "scrolled": false
   },
   "outputs": [],
   "source": [
    "OdMatrix = TripsProcessing.buildOdMatrix(filterdTrips, illeEtVilaineIRIS)\n",
    "irisFlow = TripsProcessing.irisFlowRate(OdMatrix)"
   ]
  },
  {
   "cell_type": "code",
   "execution_count": 14,
   "metadata": {
    "ExecuteTime": {
     "end_time": "2019-01-08T11:33:30.384572Z",
     "start_time": "2019-01-08T11:15:08.334Z"
    }
   },
   "outputs": [
    {
     "ename": "NameError",
     "evalue": "name 'OdMatrix' is not defined",
     "output_type": "error",
     "traceback": [
      "\u001b[0;31m---------------------------------------------------------------------------\u001b[0m",
      "\u001b[0;31mNameError\u001b[0m                                 Traceback (most recent call last)",
      "\u001b[0;32m<ipython-input-14-2078a6e55bfc>\u001b[0m in \u001b[0;36m<module>\u001b[0;34m()\u001b[0m\n\u001b[0;32m----> 1\u001b[0;31m \u001b[0mPlotting\u001b[0m\u001b[0;34m.\u001b[0m\u001b[0mdataFrameAsImage\u001b[0m\u001b[0;34m(\u001b[0m\u001b[0mOdMatrix\u001b[0m\u001b[0;34m.\u001b[0m\u001b[0mreplace\u001b[0m\u001b[0;34m(\u001b[0m\u001b[0;36m0\u001b[0m\u001b[0;34m,\u001b[0m \u001b[0mnp\u001b[0m\u001b[0;34m.\u001b[0m\u001b[0mnan\u001b[0m\u001b[0;34m)\u001b[0m\u001b[0;34m,\u001b[0m \u001b[0mcmap\u001b[0m\u001b[0;34m=\u001b[0m\u001b[0mplt\u001b[0m\u001b[0;34m.\u001b[0m\u001b[0mcm\u001b[0m\u001b[0;34m.\u001b[0m\u001b[0mhot\u001b[0m\u001b[0;34m)\u001b[0m\u001b[0;34m\u001b[0m\u001b[0;34m\u001b[0m\u001b[0m\n\u001b[0m",
      "\u001b[0;31mNameError\u001b[0m: name 'OdMatrix' is not defined"
     ]
    }
   ],
   "source": [
    "Plotting.dataFrameAsImage(OdMatrix.replace(0, np.nan), cmap=plt.cm.hot)"
   ]
  },
  {
   "cell_type": "markdown",
   "metadata": {
    "toc-hr-collapsed": false
   },
   "source": [
    "# Recurrent trips / Density clusters"
   ]
  },
  {
   "cell_type": "markdown",
   "metadata": {
    "toc-hr-collapsed": true
   },
   "source": [
    "### grouping trip edges"
   ]
  },
  {
   "cell_type": "code",
   "execution_count": 60,
   "metadata": {
    "ExecuteTime": {
     "end_time": "2019-01-14T16:10:54.942898Z",
     "start_time": "2019-01-14T16:10:39.751920Z"
    }
   },
   "outputs": [],
   "source": [
    "roiDF = TripsProcessing.getGroupedTripEdges(filterdTrips)"
   ]
  },
  {
   "cell_type": "code",
   "execution_count": 61,
   "metadata": {
    "ExecuteTime": {
     "end_time": "2019-01-14T16:12:32.850356Z",
     "start_time": "2019-01-14T16:12:32.544958Z"
    }
   },
   "outputs": [],
   "source": [
    "roiDF = TripsProcessing.filterEdgesLength(roiDF, minPoints=10)"
   ]
  },
  {
   "cell_type": "markdown",
   "metadata": {
    "toc-hr-collapsed": false
   },
   "source": [
    "### Kmeans on cluster time attempt"
   ]
  },
  {
   "cell_type": "code",
   "execution_count": 17,
   "metadata": {},
   "outputs": [],
   "source": [
    "import sklearn"
   ]
  },
  {
   "cell_type": "code",
   "execution_count": 18,
   "metadata": {},
   "outputs": [],
   "source": [
    "roiClusters = TripsProcessing.findAllUsersROI(roiDF, min_samples=5,eps=0.35,both=True)\n",
    "roiDF = roiDF.join(roiClusters, on='id')"
   ]
  },
  {
   "cell_type": "code",
   "execution_count": 19,
   "metadata": {
    "ExecuteTime": {
     "end_time": "2019-01-14T09:44:28.352553Z",
     "start_time": "2019-01-14T09:44:28.278367Z"
    }
   },
   "outputs": [],
   "source": [
    "def clusterTime(timeSeries, clusters):\n",
    "    timeSeries = pd.to_timedelta(timeSeries).dt.seconds\n",
    "    clusts = set(clusters)\n",
    "    results = {'centroid': [], 'counts': []}\n",
    "    for clust in clusts:\n",
    "        values = timeSeries[np.where(clusters == clust)[0]]\n",
    "        initV = np.array([pd.Timedelta(1, unit='h').seconds, pd.Timedelta(6, unit='h').seconds, pd.Timedelta(\n",
    "            12, unit='h').seconds, pd.Timedelta(18, unit='h').seconds, pd.Timedelta(23, unit='h').seconds]).reshape(-1, 1)\n",
    "        values = values.values.reshape(-1, 1)\n",
    "        values = np.concatenate([initV, values])\n",
    "        centroid, label, inertia = sklearn.cluster.k_means(\n",
    "            values, 5, init=initV, n_init=1)\n",
    "        _, counts = np.unique(label, return_counts=True)\n",
    "        results['centroid'].append(centroid.reshape(-1))\n",
    "        results['counts'].append(counts)\n",
    "    return results"
   ]
  },
  {
   "cell_type": "code",
   "execution_count": 20,
   "metadata": {
    "ExecuteTime": {
     "end_time": "2019-01-14T09:45:43.641380Z",
     "start_time": "2019-01-14T09:44:47.518554Z"
    },
    "scrolled": true
   },
   "outputs": [],
   "source": [
    "kmeans_results = roiDF.apply(lambda x: pd.Series(clusterTime(pd.Series(\n",
    "    [*x['edges_begin_time'], *x['edges_end_time']]), x['both_clusters'])), axis=1)"
   ]
  },
  {
   "cell_type": "code",
   "execution_count": 21,
   "metadata": {
    "ExecuteTime": {
     "end_time": "2019-01-14T09:50:00.432535Z",
     "start_time": "2019-01-14T09:50:00.134786Z"
    }
   },
   "outputs": [],
   "source": [
    "kmeans_results_counts = pd.DataFrame(\n",
    "    np.concatenate(kmeans_results.counts.values))"
   ]
  },
  {
   "cell_type": "code",
   "execution_count": 22,
   "metadata": {
    "ExecuteTime": {
     "end_time": "2019-01-14T09:50:01.622620Z",
     "start_time": "2019-01-14T09:50:01.064614Z"
    }
   },
   "outputs": [
    {
     "data": {
      "text/plain": [
       "<matplotlib.image.AxesImage at 0x7efefefc0518>"
      ]
     },
     "execution_count": 22,
     "metadata": {},
     "output_type": "execute_result"
    },
    {
     "data": {
      "image/png": "[encoded data removed]",
      "text/plain": [
       "<Figure size 1008x288 with 1 Axes>"
      ]
     },
     "metadata": {
      "needs_background": "light"
     },
     "output_type": "display_data"
    }
   ],
   "source": [
    "plt.figure(figsize=(14, 4))\n",
    "plt.imshow(kmeans_results_counts.sort_values([1, 3, 2]), aspect='auto')"
   ]
  },
  {
   "cell_type": "markdown",
   "metadata": {},
   "source": [
    "### finding recurrent trips"
   ]
  },
  {
   "cell_type": "code",
   "execution_count": 23,
   "metadata": {
    "ExecuteTime": {
     "end_time": "2019-01-14T16:20:50.431634Z",
     "start_time": "2019-01-14T16:16:54.590417Z"
    }
   },
   "outputs": [],
   "source": [
    "tripClusters = roiDF.apply(\n",
    "    TripsProcessing.recurentTrips, axis=1, min_samples=5)\n",
    "roiDF = roiDF.assign(trip_clusters=tripClusters)\n",
    "roiDF = roiDF.assign(\n",
    "    n_trip_clusters=roiDF.trip_clusters.apply(lambda x: len(set(x))))"
   ]
  },
  {
   "cell_type": "code",
   "execution_count": 24,
   "metadata": {
    "ExecuteTime": {
     "end_time": "2019-01-14T11:09:43.115398Z",
     "start_time": "2019-01-14T11:06:49.680Z"
    }
   },
   "outputs": [
    {
     "data": {
      "text/html": [
       "<div>\n",
       "<style scoped>\n",
       "    .dataframe tbody tr th:only-of-type {\n",
       "        vertical-align: middle;\n",
       "    }\n",
       "\n",
       "    .dataframe tbody tr th {\n",
       "        vertical-align: top;\n",
       "    }\n",
       "\n",
       "    .dataframe thead th {\n",
       "        text-align: right;\n",
       "    }\n",
       "</style>\n",
       "<table border=\"1\" class=\"dataframe\">\n",
       "  <thead>\n",
       "    <tr style=\"text-align: right;\">\n",
       "      <th></th>\n",
       "      <th>edges_begin</th>\n",
       "      <th>edges_end</th>\n",
       "      <th>edges_begin_time</th>\n",
       "      <th>edges_end_time</th>\n",
       "      <th>edges_trip_id</th>\n",
       "      <th>length</th>\n",
       "      <th>both_n_clusters</th>\n",
       "      <th>both_clusters</th>\n",
       "      <th>trip_clusters</th>\n",
       "      <th>n_trip_clusters</th>\n",
       "    </tr>\n",
       "    <tr>\n",
       "      <th>id</th>\n",
       "      <th></th>\n",
       "      <th></th>\n",
       "      <th></th>\n",
       "      <th></th>\n",
       "      <th></th>\n",
       "      <th></th>\n",
       "      <th></th>\n",
       "      <th></th>\n",
       "      <th></th>\n",
       "      <th></th>\n",
       "    </tr>\n",
       "  </thead>\n",
       "  <tbody>\n",
       "    <tr>\n",
       "      <th>001a7cb7f9a28b9e14bb3aae4798890e</th>\n",
       "      <td>[[-1.68415, 48.16132], [-1.68411, 48.16158], [...</td>\n",
       "      <td>[[-1.70757, 48.15175], [-1.72485, 48.1983], [-...</td>\n",
       "      <td>[2018-11-16T08:21:09.000000000, 2018-11-17T11:...</td>\n",
       "      <td>[2018-11-16T08:32:36.000000000, 2018-11-17T12:...</td>\n",
       "      <td>[102, 110, 111, 113, 121, 125, 132, 140, 142]</td>\n",
       "      <td>18</td>\n",
       "      <td>2</td>\n",
       "      <td>[0, 0, -1, -1, 0, 0, 0, 0, 0, -1, -1, -1, -1, ...</td>\n",
       "      <td>[-1, -1, -1, -1, -1, -1, -1, -1, -1]</td>\n",
       "      <td>1</td>\n",
       "    </tr>\n",
       "    <tr>\n",
       "      <th>002b0e76e4ec0fd69f14e755314a6246</th>\n",
       "      <td>[[-1.70028, 48.08748], [-1.69565, 48.08544], [...</td>\n",
       "      <td>[[-1.70736, 48.08596], [-1.61709, 48.10523], [...</td>\n",
       "      <td>[2018-11-17T10:32:26.000000000, 2018-11-19T13:...</td>\n",
       "      <td>[2018-11-17T10:43:57.000000000, 2018-11-19T13:...</td>\n",
       "      <td>[180, 195, 197, 213, 215]</td>\n",
       "      <td>10</td>\n",
       "      <td>1</td>\n",
       "      <td>[-1, -1, -1, -1, -1, -1, -1, -1, -1, -1]</td>\n",
       "      <td>[-1, -1, -1, -1, -1]</td>\n",
       "      <td>1</td>\n",
       "    </tr>\n",
       "    <tr>\n",
       "      <th>0033acd31e85c126809b07131618c254</th>\n",
       "      <td>[[-1.90712, 48.51457], [-1.83451, 48.48701], [...</td>\n",
       "      <td>[[-1.87675, 48.50181], [-1.7556, 48.5506], [-1...</td>\n",
       "      <td>[2018-11-16T21:15:48.000000000, 2018-11-17T10:...</td>\n",
       "      <td>[2018-11-16T21:27:08.000000000, 2018-11-17T10:...</td>\n",
       "      <td>[250, 252, 253, 254, 255, 256, 258, 260, 262, ...</td>\n",
       "      <td>52</td>\n",
       "      <td>2</td>\n",
       "      <td>[-1, 0, -1, 0, -1, -1, -1, -1, -1, -1, -1, -1,...</td>\n",
       "      <td>[-1, -1, -1, -1, -1, -1, -1, -1, -1, -1, -1, -...</td>\n",
       "      <td>1</td>\n",
       "    </tr>\n",
       "    <tr>\n",
       "      <th>00486eee9094591e830b14e74f7c7696</th>\n",
       "      <td>[[-1.21909, 48.11578], [-1.18399, 48.11335], [...</td>\n",
       "      <td>[[-1.18252, 48.11417], [-1.21914, 48.11592], [...</td>\n",
       "      <td>[2018-11-17T14:05:07.000000000, 2018-11-17T14:...</td>\n",
       "      <td>[2018-11-17T14:14:07.000000000, 2018-11-17T15:...</td>\n",
       "      <td>[371, 372, 375, 376, 378, 390, 395, 396, 397, ...</td>\n",
       "      <td>68</td>\n",
       "      <td>3</td>\n",
       "      <td>[0, -1, 0, 0, -1, 0, 0, 1, -1, -1, -1, -1, -1,...</td>\n",
       "      <td>[-1, -1, -1, -1, -1, -1, -1, -1, -1, -1, -1, -...</td>\n",
       "      <td>1</td>\n",
       "    </tr>\n",
       "    <tr>\n",
       "      <th>00489cdbbdbc16112bb28e36687399c2</th>\n",
       "      <td>[[-1.61083, 48.26206], [-1.52182, 48.29928], [...</td>\n",
       "      <td>[[-1.52182, 48.29928], [-1.33972, 48.34176], [...</td>\n",
       "      <td>[2018-11-13T15:19:07.000000000, 2018-11-13T16:...</td>\n",
       "      <td>[2018-11-13T16:15:48.000000000, 2018-11-13T17:...</td>\n",
       "      <td>[473, 474, 480, 482, 485, 487, 488, 491, 493, ...</td>\n",
       "      <td>24</td>\n",
       "      <td>1</td>\n",
       "      <td>[-1, -1, -1, -1, -1, -1, -1, -1, -1, -1, -1, -...</td>\n",
       "      <td>[-1, -1, -1, -1, -1, -1, -1, -1, -1, -1, -1, -1]</td>\n",
       "      <td>1</td>\n",
       "    </tr>\n",
       "  </tbody>\n",
       "</table>\n",
       "</div>"
      ],
      "text/plain": [
       "                                                                        edges_begin  \\\n",
       "id                                                                                    \n",
       "001a7cb7f9a28b9e14bb3aae4798890e  [[-1.68415, 48.16132], [-1.68411, 48.16158], [...   \n",
       "002b0e76e4ec0fd69f14e755314a6246  [[-1.70028, 48.08748], [-1.69565, 48.08544], [...   \n",
       "0033acd31e85c126809b07131618c254  [[-1.90712, 48.51457], [-1.83451, 48.48701], [...   \n",
       "00486eee9094591e830b14e74f7c7696  [[-1.21909, 48.11578], [-1.18399, 48.11335], [...   \n",
       "00489cdbbdbc16112bb28e36687399c2  [[-1.61083, 48.26206], [-1.52182, 48.29928], [...   \n",
       "\n",
       "                                                                          edges_end  \\\n",
       "id                                                                                    \n",
       "001a7cb7f9a28b9e14bb3aae4798890e  [[-1.70757, 48.15175], [-1.72485, 48.1983], [-...   \n",
       "002b0e76e4ec0fd69f14e755314a6246  [[-1.70736, 48.08596], [-1.61709, 48.10523], [...   \n",
       "0033acd31e85c126809b07131618c254  [[-1.87675, 48.50181], [-1.7556, 48.5506], [-1...   \n",
       "00486eee9094591e830b14e74f7c7696  [[-1.18252, 48.11417], [-1.21914, 48.11592], [...   \n",
       "00489cdbbdbc16112bb28e36687399c2  [[-1.52182, 48.29928], [-1.33972, 48.34176], [...   \n",
       "\n",
       "                                                                   edges_begin_time  \\\n",
       "id                                                                                    \n",
       "001a7cb7f9a28b9e14bb3aae4798890e  [2018-11-16T08:21:09.000000000, 2018-11-17T11:...   \n",
       "002b0e76e4ec0fd69f14e755314a6246  [2018-11-17T10:32:26.000000000, 2018-11-19T13:...   \n",
       "0033acd31e85c126809b07131618c254  [2018-11-16T21:15:48.000000000, 2018-11-17T10:...   \n",
       "00486eee9094591e830b14e74f7c7696  [2018-11-17T14:05:07.000000000, 2018-11-17T14:...   \n",
       "00489cdbbdbc16112bb28e36687399c2  [2018-11-13T15:19:07.000000000, 2018-11-13T16:...   \n",
       "\n",
       "                                                                     edges_end_time  \\\n",
       "id                                                                                    \n",
       "001a7cb7f9a28b9e14bb3aae4798890e  [2018-11-16T08:32:36.000000000, 2018-11-17T12:...   \n",
       "002b0e76e4ec0fd69f14e755314a6246  [2018-11-17T10:43:57.000000000, 2018-11-19T13:...   \n",
       "0033acd31e85c126809b07131618c254  [2018-11-16T21:27:08.000000000, 2018-11-17T10:...   \n",
       "00486eee9094591e830b14e74f7c7696  [2018-11-17T14:14:07.000000000, 2018-11-17T15:...   \n",
       "00489cdbbdbc16112bb28e36687399c2  [2018-11-13T16:15:48.000000000, 2018-11-13T17:...   \n",
       "\n",
       "                                                                      edges_trip_id  \\\n",
       "id                                                                                    \n",
       "001a7cb7f9a28b9e14bb3aae4798890e      [102, 110, 111, 113, 121, 125, 132, 140, 142]   \n",
       "002b0e76e4ec0fd69f14e755314a6246                          [180, 195, 197, 213, 215]   \n",
       "0033acd31e85c126809b07131618c254  [250, 252, 253, 254, 255, 256, 258, 260, 262, ...   \n",
       "00486eee9094591e830b14e74f7c7696  [371, 372, 375, 376, 378, 390, 395, 396, 397, ...   \n",
       "00489cdbbdbc16112bb28e36687399c2  [473, 474, 480, 482, 485, 487, 488, 491, 493, ...   \n",
       "\n",
       "                                  length  both_n_clusters  \\\n",
       "id                                                          \n",
       "001a7cb7f9a28b9e14bb3aae4798890e      18                2   \n",
       "002b0e76e4ec0fd69f14e755314a6246      10                1   \n",
       "0033acd31e85c126809b07131618c254      52                2   \n",
       "00486eee9094591e830b14e74f7c7696      68                3   \n",
       "00489cdbbdbc16112bb28e36687399c2      24                1   \n",
       "\n",
       "                                                                      both_clusters  \\\n",
       "id                                                                                    \n",
       "001a7cb7f9a28b9e14bb3aae4798890e  [0, 0, -1, -1, 0, 0, 0, 0, 0, -1, -1, -1, -1, ...   \n",
       "002b0e76e4ec0fd69f14e755314a6246           [-1, -1, -1, -1, -1, -1, -1, -1, -1, -1]   \n",
       "0033acd31e85c126809b07131618c254  [-1, 0, -1, 0, -1, -1, -1, -1, -1, -1, -1, -1,...   \n",
       "00486eee9094591e830b14e74f7c7696  [0, -1, 0, 0, -1, 0, 0, 1, -1, -1, -1, -1, -1,...   \n",
       "00489cdbbdbc16112bb28e36687399c2  [-1, -1, -1, -1, -1, -1, -1, -1, -1, -1, -1, -...   \n",
       "\n",
       "                                                                      trip_clusters  \\\n",
       "id                                                                                    \n",
       "001a7cb7f9a28b9e14bb3aae4798890e               [-1, -1, -1, -1, -1, -1, -1, -1, -1]   \n",
       "002b0e76e4ec0fd69f14e755314a6246                               [-1, -1, -1, -1, -1]   \n",
       "0033acd31e85c126809b07131618c254  [-1, -1, -1, -1, -1, -1, -1, -1, -1, -1, -1, -...   \n",
       "00486eee9094591e830b14e74f7c7696  [-1, -1, -1, -1, -1, -1, -1, -1, -1, -1, -1, -...   \n",
       "00489cdbbdbc16112bb28e36687399c2   [-1, -1, -1, -1, -1, -1, -1, -1, -1, -1, -1, -1]   \n",
       "\n",
       "                                  n_trip_clusters  \n",
       "id                                                 \n",
       "001a7cb7f9a28b9e14bb3aae4798890e                1  \n",
       "002b0e76e4ec0fd69f14e755314a6246                1  \n",
       "0033acd31e85c126809b07131618c254                1  \n",
       "00486eee9094591e830b14e74f7c7696                1  \n",
       "00489cdbbdbc16112bb28e36687399c2                1  "
      ]
     },
     "execution_count": 24,
     "metadata": {},
     "output_type": "execute_result"
    }
   ],
   "source": [
    "roiDF.head()"
   ]
  },
  {
   "cell_type": "code",
   "execution_count": 25,
   "metadata": {
    "ExecuteTime": {
     "end_time": "2019-01-14T14:52:41.330813Z",
     "start_time": "2019-01-14T14:52:41.249007Z"
    }
   },
   "outputs": [],
   "source": [
    "roiDF = roiDF[roiDF.n_trip_clusters >= 3]"
   ]
  },
  {
   "cell_type": "code",
   "execution_count": 26,
   "metadata": {
    "ExecuteTime": {
     "end_time": "2019-01-14T16:21:54.823021Z",
     "start_time": "2019-01-14T16:21:54.685933Z"
    },
    "scrolled": true
   },
   "outputs": [
    {
     "data": {
      "text/plain": [
       "edges_begin         [[-1.40073, 48.25789], [-1.40694, 48.25484], [...\n",
       "edges_end           [[-1.40694, 48.25484], [-1.39789, 48.26046], [...\n",
       "edges_begin_time    [2018-11-13T20:27:39.000000000, 2018-11-14T08:...\n",
       "edges_end_time      [2018-11-13T20:33:41.000000000, 2018-11-14T08:...\n",
       "edges_trip_id       [109380, 109381, 109382, 109383, 109385, 10938...\n",
       "length                                                            118\n",
       "both_n_clusters                                                     2\n",
       "both_clusters       [0, 0, 0, 0, 0, 0, 0, 0, 0, 0, -1, 0, 0, 0, 0,...\n",
       "trip_clusters       [0, 1, 0, 1, 0, 1, 0, 1, 0, -1, -1, 0, 1, 0, 0...\n",
       "n_trip_clusters                                                     3\n",
       "Name: 40f4639f570e1ac39e747ba68baf4908, dtype: object"
      ]
     },
     "execution_count": 26,
     "metadata": {},
     "output_type": "execute_result"
    }
   ],
   "source": [
    "userEdges = roiDF.sample().iloc[0]\n",
    "userEdges"
   ]
  },
  {
   "cell_type": "code",
   "execution_count": 27,
   "metadata": {
    "ExecuteTime": {
     "end_time": "2019-01-14T16:25:36.710678Z",
     "start_time": "2019-01-14T16:25:36.308360Z"
    },
    "scrolled": true
   },
   "outputs": [
    {
     "ename": "AttributeError",
     "evalue": "'Series' object has no attribute 'clusters_begin'",
     "output_type": "error",
     "traceback": [
      "\u001b[0;31m---------------------------------------------------------------------------\u001b[0m",
      "\u001b[0;31mAttributeError\u001b[0m                            Traceback (most recent call last)",
      "\u001b[0;32m<ipython-input-27-d70849ab6b73>\u001b[0m in \u001b[0;36m<module>\u001b[0;34m()\u001b[0m\n\u001b[0;32m----> 1\u001b[0;31m \u001b[0mPlotting\u001b[0m\u001b[0;34m.\u001b[0m\u001b[0mplotUserRegionsOfInterst\u001b[0m\u001b[0;34m(\u001b[0m\u001b[0muserEdges\u001b[0m\u001b[0;34m,\u001b[0m \u001b[0mshow_outliers\u001b[0m\u001b[0;34m=\u001b[0m\u001b[0;32mTrue\u001b[0m\u001b[0;34m)\u001b[0m\u001b[0;34m\u001b[0m\u001b[0;34m\u001b[0m\u001b[0m\n\u001b[0m",
      "\u001b[0;32m~/code/git/PRIM/source/Plotting.py\u001b[0m in \u001b[0;36mplotUserRegionsOfInterst\u001b[0;34m(userEdges, folium_map, show_outliers)\u001b[0m\n\u001b[1;32m    184\u001b[0m         \u001b[0mfolium_map\u001b[0m\u001b[0;34m=\u001b[0m\u001b[0mgetFoliumMap\u001b[0m\u001b[0;34m(\u001b[0m\u001b[0;34m)\u001b[0m\u001b[0;34m\u001b[0m\u001b[0;34m\u001b[0m\u001b[0m\n\u001b[1;32m    185\u001b[0m \u001b[0;34m\u001b[0m\u001b[0m\n\u001b[0;32m--> 186\u001b[0;31m     \u001b[0mvalidIds\u001b[0m\u001b[0;34m=\u001b[0m\u001b[0mnp\u001b[0m\u001b[0;34m.\u001b[0m\u001b[0mwhere\u001b[0m\u001b[0;34m(\u001b[0m\u001b[0muserEdges\u001b[0m\u001b[0;34m.\u001b[0m\u001b[0mclusters_begin\u001b[0m\u001b[0;34m>=\u001b[0m\u001b[0;34m-\u001b[0m\u001b[0mshow_outliers\u001b[0m\u001b[0;34m)\u001b[0m\u001b[0;34m[\u001b[0m\u001b[0;36m0\u001b[0m\u001b[0;34m]\u001b[0m\u001b[0;34m\u001b[0m\u001b[0;34m\u001b[0m\u001b[0m\n\u001b[0m\u001b[1;32m    187\u001b[0m     \u001b[0mcolors\u001b[0m\u001b[0;34m=\u001b[0m\u001b[0mCustomUtils\u001b[0m\u001b[0;34m.\u001b[0m\u001b[0mgetClustersColors\u001b[0m\u001b[0;34m(\u001b[0m\u001b[0muserEdges\u001b[0m\u001b[0;34m.\u001b[0m\u001b[0mclusters_begin\u001b[0m\u001b[0;34m[\u001b[0m\u001b[0mvalidIds\u001b[0m\u001b[0;34m]\u001b[0m\u001b[0;34m)\u001b[0m\u001b[0;34m\u001b[0m\u001b[0;34m\u001b[0m\u001b[0m\n\u001b[1;32m    188\u001b[0m     \u001b[0mbeginLayer\u001b[0m \u001b[0;34m=\u001b[0m \u001b[0mgetLayerWithPositions\u001b[0m\u001b[0;34m(\u001b[0m\u001b[0muserEdges\u001b[0m\u001b[0;34m.\u001b[0m\u001b[0medges_begin\u001b[0m\u001b[0;34m[\u001b[0m\u001b[0mvalidIds\u001b[0m\u001b[0;34m]\u001b[0m\u001b[0;34m,\u001b[0m\u001b[0mcolors\u001b[0m\u001b[0;34m,\u001b[0m\u001b[0mname\u001b[0m\u001b[0;34m=\u001b[0m\u001b[0;34m'begin'\u001b[0m\u001b[0;34m,\u001b[0m\u001b[0mfmap\u001b[0m\u001b[0;34m=\u001b[0m\u001b[0mfolium_map\u001b[0m\u001b[0;34m)\u001b[0m\u001b[0;34m\u001b[0m\u001b[0;34m\u001b[0m\u001b[0m\n",
      "\u001b[0;32m/usr/lib64/python3.7/site-packages/pandas/core/generic.py\u001b[0m in \u001b[0;36m__getattr__\u001b[0;34m(self, name)\u001b[0m\n\u001b[1;32m   4374\u001b[0m             \u001b[0;32mif\u001b[0m \u001b[0mself\u001b[0m\u001b[0;34m.\u001b[0m\u001b[0m_info_axis\u001b[0m\u001b[0;34m.\u001b[0m\u001b[0m_can_hold_identifiers_and_holds_name\u001b[0m\u001b[0;34m(\u001b[0m\u001b[0mname\u001b[0m\u001b[0;34m)\u001b[0m\u001b[0;34m:\u001b[0m\u001b[0;34m\u001b[0m\u001b[0;34m\u001b[0m\u001b[0m\n\u001b[1;32m   4375\u001b[0m                 \u001b[0;32mreturn\u001b[0m \u001b[0mself\u001b[0m\u001b[0;34m[\u001b[0m\u001b[0mname\u001b[0m\u001b[0;34m]\u001b[0m\u001b[0;34m\u001b[0m\u001b[0;34m\u001b[0m\u001b[0m\n\u001b[0;32m-> 4376\u001b[0;31m             \u001b[0;32mreturn\u001b[0m \u001b[0mobject\u001b[0m\u001b[0;34m.\u001b[0m\u001b[0m__getattribute__\u001b[0m\u001b[0;34m(\u001b[0m\u001b[0mself\u001b[0m\u001b[0;34m,\u001b[0m \u001b[0mname\u001b[0m\u001b[0;34m)\u001b[0m\u001b[0;34m\u001b[0m\u001b[0;34m\u001b[0m\u001b[0m\n\u001b[0m\u001b[1;32m   4377\u001b[0m \u001b[0;34m\u001b[0m\u001b[0m\n\u001b[1;32m   4378\u001b[0m     \u001b[0;32mdef\u001b[0m \u001b[0m__setattr__\u001b[0m\u001b[0;34m(\u001b[0m\u001b[0mself\u001b[0m\u001b[0;34m,\u001b[0m \u001b[0mname\u001b[0m\u001b[0;34m,\u001b[0m \u001b[0mvalue\u001b[0m\u001b[0;34m)\u001b[0m\u001b[0;34m:\u001b[0m\u001b[0;34m\u001b[0m\u001b[0;34m\u001b[0m\u001b[0m\n",
      "\u001b[0;31mAttributeError\u001b[0m: 'Series' object has no attribute 'clusters_begin'"
     ]
    }
   ],
   "source": [
    "Plotting.plotUserRegionsOfInterst(userEdges, show_outliers=True)"
   ]
  },
  {
   "cell_type": "code",
   "execution_count": null,
   "metadata": {
    "ExecuteTime": {
     "end_time": "2019-01-14T16:22:18.695515Z",
     "start_time": "2019-01-14T16:22:18.020583Z"
    },
    "scrolled": true
   },
   "outputs": [],
   "source": [
    "Plotting.plotUserTripsClusters(\n",
    "    Plotting.getFoliumMap(), trips, userEdges, edges_only=True)"
   ]
  },
  {
   "cell_type": "code",
   "execution_count": null,
   "metadata": {
    "ExecuteTime": {
     "end_time": "2019-01-14T16:22:32.555544Z",
     "start_time": "2019-01-14T16:22:32.371753Z"
    }
   },
   "outputs": [],
   "source": [
    "stats = TripsProcessing.getAllClusterStats(\n",
    "    trips, userEdges).assign(trip_clusters=userEdges.trip_clusters)\n"
   ]
  },
  {
   "cell_type": "code",
   "execution_count": null,
   "metadata": {
    "ExecuteTime": {
     "end_time": "2019-01-14T16:22:33.793295Z",
     "start_time": "2019-01-14T16:22:33.671090Z"
    }
   },
   "outputs": [],
   "source": [
    "stats.groupby(['clusterEnd','clusterBegin'])['deltaTimeBegin'].apply(np.mean).unstack('clusterEnd').fillna(0)"
   ]
  },
  {
   "cell_type": "code",
   "execution_count": null,
   "metadata": {
    "ExecuteTime": {
     "end_time": "2019-01-14T16:22:34.550966Z",
     "start_time": "2019-01-14T16:22:34.446811Z"
    }
   },
   "outputs": [],
   "source": [
    "stats.groupby(['clusterBegin','clusterEnd']).size().unstack('clusterEnd').fillna(0)"
   ]
  },
  {
   "cell_type": "code",
   "execution_count": null,
   "metadata": {
    "ExecuteTime": {
     "end_time": "2019-01-14T16:23:27.327986Z",
     "start_time": "2019-01-14T16:23:26.806848Z"
    },
    "scrolled": true
   },
   "outputs": [],
   "source": [
    "stats.groupby(['clusterBegin','clusterEnd']).describe().T"
   ]
  },
  {
   "cell_type": "code",
   "execution_count": null,
   "metadata": {
    "ExecuteTime": {
     "end_time": "2019-01-14T16:28:53.006935Z",
     "start_time": "2019-01-14T16:28:52.421429Z"
    },
    "scrolled": true
   },
   "outputs": [],
   "source": [
    "stats.groupby(['clusterBegin']).describe().T"
   ]
  },
  {
   "cell_type": "markdown",
   "metadata": {},
   "source": [
    "### Mining Day sequences"
   ]
  },
  {
   "cell_type": "code",
   "execution_count": 62,
   "metadata": {},
   "outputs": [],
   "source": [
    "roiClusters = TripsProcessing.findAllUsersROI(roiDF, min_samples=5,eps=0.35,both=True)\n",
    "roiDF = roiDF.join(roiClusters, on='id')"
   ]
  },
  {
   "cell_type": "code",
   "execution_count": 63,
   "metadata": {},
   "outputs": [],
   "source": [
    "def alignClustersWithPoints(userEdges):\n",
    "    df = pd.DataFrame(data=np.array([[*userEdges['edges_begin_time'],*userEdges['edges_end_time']],[*userEdges['edges_begin'],*userEdges['edges_end']],userEdges['both_clusters']]),index=['time','loc','cluster']).T\n",
    "    df= df.assign(date = pd.to_datetime(df.time).apply(lambda x : x.date()))\n",
    "    return df"
   ]
  },
  {
   "cell_type": "code",
   "execution_count": 64,
   "metadata": {},
   "outputs": [],
   "source": [
    "def headAndTail(x,n=1):\n",
    "    return  x.head(n).append(x.tail(n))"
   ]
  },
  {
   "cell_type": "code",
   "execution_count": 65,
   "metadata": {},
   "outputs": [],
   "source": [
    "def getClusterWithMaxStartEndProba(userEdges):\n",
    "    alignedClusters = alignClustersWithPoints(userEdges).sort_values('time')\n",
    "    \n",
    "    startEndSequence = alignedClusters.groupby('date')\\\n",
    "                                      .apply(headAndTail)\\\n",
    "                                      .cluster\n",
    "    \n",
    "    nbSequences = len(startEndSequence)\n",
    "    \n",
    "    nbTrips = len(alignedClusters)\n",
    "    \n",
    "    mostStartEndCluster =startEndSequence.value_counts(True)\\\n",
    "                                         .agg([pd.Series.idxmax,max]) \n",
    "    \n",
    "    tripPropsOfCluster = alignedClusters.cluster.value_counts(True)[mostStartEndCluster['idxmax']]\n",
    "        \n",
    "    locCluster = alignedClusters.groupby('cluster')['loc'].apply(np.mean)[mostStartEndCluster['idxmax']]\n",
    "    maxCluster =pd.Series(\n",
    "                            {  \n",
    "                                'idCluster'  : mostStartEndCluster['idxmax'],\n",
    "                                'seqProps'   : mostStartEndCluster['max'],\n",
    "                                'nbSequences': nbSequences,\n",
    "                                'tripProps'  : tripPropsOfCluster,\n",
    "                                'nbTrips'    : nbTrips,\n",
    "                                'loc'        : locCluster\n",
    "                            }\n",
    "                         )\n",
    "                                    \n",
    "    return maxCluster"
   ]
  },
  {
   "cell_type": "code",
   "execution_count": 66,
   "metadata": {},
   "outputs": [],
   "source": [
    "clusterData = roiDF.apply(lambda x : getClusterWithMaxStartEndProba(x),axis = 1)"
   ]
  },
  {
   "cell_type": "code",
   "execution_count": null,
   "metadata": {},
   "outputs": [],
   "source": [
    "clusterData = clusterData[(clusterData.idCluster!=-1)&(clusterData.seqProps>0.5)&(clusterData.nbSequences>=10)&(clusterData.seqProps>clusterData.tripProps)]"
   ]
  },
  {
   "cell_type": "markdown",
   "metadata": {
    "toc-hr-collapsed": false
   },
   "source": [
    "### Plotting users homes"
   ]
  },
  {
   "cell_type": "code",
   "execution_count": 38,
   "metadata": {},
   "outputs": [],
   "source": [
    "def plotUsersHomes(usersData,usersHome,usersID):\n",
    "    folium_map = Plotting.getFoliumMap()\n",
    "    for data , home,userID in zip(usersData,usersHome,usersID):\n",
    "\n",
    "        name = userID\n",
    "        layer = getUserHomeLayer(data,home,folium_map,name)\n",
    "        layer.add_to(folium_map)\n",
    "    folium.LayerControl(collapsed=False).add_to(folium_map)\n",
    "    return folium_map\n",
    "\n",
    "\n",
    "def getUserHomeLayer(userData,userHome,fmap,name=\"layer\",predictedHome = None):\n",
    "    layer = folium.plugins.FeatureGroupSubGroup(fmap,name=name)\n",
    "    if type(userData)==numpy.ndarray :\n",
    "        locations = [loc[::-1]for loc in userData]\n",
    "    else : \n",
    "        locations = [loc['coordinates'][::-1]for loc in userData.values]\n",
    "    [folium.CircleMarker(loc,radius=1).add_to(layer) for loc in locations]\n",
    "    folium.CircleMarker(userHome[::-1],radius=20,color='red',fill_color='pink',fill_opacity=0.7).add_to(layer)\n",
    "    \n",
    "    if predictedHome!=None :\n",
    "        print('predictedHome',predictedHome)\n",
    "        [folium.CircleMarker(loc[::-1],radius=17,color='green',fill_color='pink',fill_opacity=0.7).add_to(layer) for loc in predictedHome]\n",
    "    return layer\n"
   ]
  },
  {
   "cell_type": "code",
   "execution_count": 39,
   "metadata": {},
   "outputs": [],
   "source": [
    "sampleUsers = clusterData.sample(10)"
   ]
  },
  {
   "cell_type": "code",
   "execution_count": null,
   "metadata": {},
   "outputs": [],
   "source": [
    "#sampleUsers = clusterData.loc[[userIDS]]"
   ]
  },
  {
   "cell_type": "code",
   "execution_count": null,
   "metadata": {},
   "outputs": [],
   "source": [
    "pts = [df[df.id==userid]['loc'] for userid in sampleUsers.index]"
   ]
  },
  {
   "cell_type": "code",
   "execution_count": null,
   "metadata": {},
   "outputs": [],
   "source": [
    "homes = sampleUsers['loc'].values"
   ]
  },
  {
   "cell_type": "code",
   "execution_count": null,
   "metadata": {},
   "outputs": [],
   "source": [
    "fmap = plotUsersHomes(pts,homes,sampleUsers.index)"
   ]
  },
  {
   "cell_type": "code",
   "execution_count": null,
   "metadata": {},
   "outputs": [],
   "source": [
    "fmap.save('home.html')"
   ]
  },
  {
   "cell_type": "code",
   "execution_count": null,
   "metadata": {},
   "outputs": [],
   "source": [
    "tripsSample = trips.copy()"
   ]
  },
  {
   "cell_type": "markdown",
   "metadata": {},
   "source": [
    "## Compute clusters and cluster stats for each car"
   ]
  },
  {
   "cell_type": "code",
   "execution_count": null,
   "metadata": {},
   "outputs": [],
   "source": [
    "def innerListToNpArray(df,cols):\n",
    "    for col in cols :\n",
    "        df[col]=df[col].apply(np.array)\n",
    "def groupLocations(tripsDF,**kwds):\n",
    "    df = tripsDF[['id','begin','end']].agg({                      'id'    :  lambda x : x,\n",
    "                                                                  'begin' : [lambda x : x['loc']['coordinates'], lambda x : x['time'], lambda x : x['speed']],\n",
    "                                                                  'end'   : [lambda x : x['loc']['coordinates'], lambda x : x['time'], lambda x : x['speed']],\n",
    "                                                                })\n",
    "    df.columns.set_levels(['id','begin_loc','begin_time','begin_speed','end_loc','end_time','end_speed'],level=1,inplace=True)\n",
    "    df.columns.set_labels(range(7),level=1,inplace=True)\n",
    "    df.columns=df.columns.droplevel()\n",
    "    df = df.groupby('id').agg(lambda x : [*x.values])\n",
    "    df['loc']=df['begin_loc']+df['end_loc']\n",
    "    df['time']=df['begin_time']+df['end_time']\n",
    "    df['speed']=df['begin_speed']+df['end_speed']\n",
    "    df['cluster']=df['loc'].apply(TripsProcessing.findUserRegionsOfInterst,**kwds)\n",
    "    innerListToNpArray(df,cols= ['loc','time','speed','cluster'])\n",
    "    \n",
    "    return df[['loc','time','speed','cluster']]"
   ]
  },
  {
   "cell_type": "code",
   "execution_count": null,
   "metadata": {},
   "outputs": [],
   "source": [
    "def getStats(userData):\n",
    "    userDF=pd.DataFrame(list(zip(*userData.values)),columns=['loc','time','speed','cluster'])\n",
    "    userDF.time=userDF.time.apply(lambda x: x.hour)\n",
    "    df=userDF.groupby('cluster').describe()\n",
    "    df=df.drop(['count'],axis=1,level=1)\n",
    "    df.columns=df.columns.map('_'.join)\n",
    "\n",
    "    beginDesc =userDF[:int(len(userDF)/2)][['time','cluster']].groupby('cluster').describe()\n",
    "    beginDesc.columns=beginDesc.columns.map('_Begin_'.join)\n",
    "    beginDesc.time_Begin_count =beginDesc.time_Begin_count/(len(userDF)/2)\n",
    "    \n",
    "    endDesc =userDF[int(len(userDF)/2):][['time','cluster']].groupby('cluster').describe()\n",
    "    endDesc.columns=endDesc.columns.map('_End_'.join)\n",
    "    endDesc.time_End_count=endDesc.time_End_count/(len(userDF)/2)\n",
    "    df = df.join(beginDesc.join(endDesc))\n",
    "    df=df.assign(loc_std=userDF.groupby('cluster')['loc'].apply(lambda x: np.sqrt(np.mean([CustomUtils.reverseVincenty(y,np.mean(x))**2 for y in x]))))\n",
    "    df.reset_index(inplace = True)\n",
    "    df=df.assign(id=userData.name)\n",
    "    df=df.assign(loc=userDF.groupby('cluster')['loc'].apply(np.mean).values)\n",
    "    return df"
   ]
  },
  {
   "cell_type": "code",
   "execution_count": null,
   "metadata": {},
   "outputs": [],
   "source": [
    "def getLabeledLocations(locationsStats, clusterData):\n",
    "\n",
    "\n",
    "    labeledLocations = locationsStats[locationsStats.id.isin(clusterData.index)]\n",
    "\n",
    "    labeledLocations=labeledLocations.assign(home_loc=clusterData['loc'].loc[labeledLocations.id[labeledLocations.id.isin(clusterData.index)]].values)\n",
    "\n",
    "    labeledLocations=labeledLocations.assign(home=labeledLocations[['loc','home_loc']].apply(lambda x : CustomUtils.reverseVincenty(x['loc'],x['home_loc'])<0.2,axis=1).values)\n",
    "\n",
    "    labeledLocations.reset_index(drop=True,inplace=True)\n",
    "    \n",
    "    return labeledLocations"
   ]
  },
  {
   "cell_type": "code",
   "execution_count": null,
   "metadata": {},
   "outputs": [],
   "source": [
    "groupedLocations =  groupLocations(trips, returnNbCluster=False)\n",
    "locationsStats = pd.concat(groupedLocations.apply(getStats,axis=1).values)\n"
   ]
  },
  {
   "cell_type": "code",
   "execution_count": null,
   "metadata": {},
   "outputs": [],
   "source": [
    "labeledLocations = getLabeledLocations(locationsStats,clusterData)"
   ]
  },
  {
   "cell_type": "code",
   "execution_count": null,
   "metadata": {},
   "outputs": [],
   "source": [
    "def getXData(groupedLocations,locationsStats):\n",
    "    counts=groupedLocations['cluster'].apply(lambda x: numpy.unique(x,return_counts=True)[1])\n",
    "    npoints=counts.apply(sum)\n",
    "    clustersCounts=numpy.concatenate(counts.values)\n",
    "    print(len(clustersCounts))\n",
    "    df=locationsStats.assign(clustersCounts=clustersCounts)\n",
    "    df=df.assign(clusterProp=df.clustersCounts.values/npoints.loc[df.id].values)\n",
    "    residentialLand = df['loc'].apply(lambda x: DataProcessing.isResidential(x.tolist()))\n",
    "    df = df.assign(residentialLand=residentialLand)\n",
    "    return df\n",
    "clustersStats =getXData(groupedLocations,locationsStats)"
   ]
  },
  {
   "cell_type": "code",
   "execution_count": null,
   "metadata": {},
   "outputs": [],
   "source": [
    "clustersStats.fillna(0.0)[clustersStats.cluster!=-1].id.nunique()"
   ]
  },
  {
   "cell_type": "code",
   "execution_count": null,
   "metadata": {},
   "outputs": [],
   "source": []
  },
  {
   "cell_type": "code",
   "execution_count": null,
   "metadata": {},
   "outputs": [],
   "source": []
  },
  {
   "cell_type": "code",
   "execution_count": null,
   "metadata": {},
   "outputs": [],
   "source": []
  },
  {
   "cell_type": "code",
   "execution_count": null,
   "metadata": {},
   "outputs": [],
   "source": [
    "fullX=clustersStats.fillna(0.0)[clustersStats.cluster!=-1].drop(['id','cluster','loc'],axis=1)"
   ]
  },
  {
   "cell_type": "code",
   "execution_count": null,
   "metadata": {},
   "outputs": [],
   "source": [
    "data=labeledLocations.fillna(0.0)[labeledLocations.cluster!=-1]\n",
    "X=data.drop(['id','cluster','loc','home_loc','home'],axis=1)\n",
    "y=data['home']"
   ]
  },
  {
   "cell_type": "code",
   "execution_count": null,
   "metadata": {},
   "outputs": [],
   "source": [
    "def trainAndPredictRF(X,y,classifier,test_size=0.2):\n",
    "    x_train,x_test,y_train,y_test=sklearn.model_selection.train_test_split(X,y,test_size=test_size,)\n",
    "    classifier.fit(x_train,y_train)\n",
    "    y_train\n",
    "    y_pred=classifier.predict(x_test)\n",
    "    fullpred= classifier.predict(X)\n",
    "    print(sklearn.metrics.confusion_matrix(classifier.predict(x_train),y_train))\n",
    "    print('cohen kappa ',sklearn.metrics.cohen_kappa_score(y_test,y_pred))\n",
    "    return fullpred,sklearn.metrics.confusion_matrix(y_test,y_pred),classifier"
   ]
  },
  {
   "cell_type": "code",
   "execution_count": null,
   "metadata": {},
   "outputs": [],
   "source": [
    "data.home.value_counts()"
   ]
  },
  {
   "cell_type": "code",
   "execution_count": null,
   "metadata": {},
   "outputs": [],
   "source": [
    "preds,cm,classifier=trainAndPredictRF(X,y,sklearn.ensemble.RandomForestClassifier(n_estimators=50,class_weight={True: 1, False: 5}))\n",
    "cm"
   ]
  },
  {
   "cell_type": "code",
   "execution_count": null,
   "metadata": {},
   "outputs": [],
   "source": [
    "fullPreds  = clustersStats.fillna(0.0)[clustersStats.cluster!=-1].assign( preds = classifier.predict(fullX))"
   ]
  },
  {
   "cell_type": "code",
   "execution_count": null,
   "metadata": {},
   "outputs": [],
   "source": [
    "fullPreds.groupby('id')['preds'].sum().value_counts()"
   ]
  },
  {
   "cell_type": "code",
   "execution_count": null,
   "metadata": {},
   "outputs": [],
   "source": [
    "plt.figure(figsize=(36,4))\n",
    "plt.bar(range(len(classifier.feature_importances_)),classifier.feature_importances_,tick_label=X.columns.values)\n",
    "plt.tight_layout()"
   ]
  },
  {
   "cell_type": "code",
   "execution_count": null,
   "metadata": {},
   "outputs": [],
   "source": [
    "predLocations  = labeledLocations.dropna().assign(pred=preds)"
   ]
  },
  {
   "cell_type": "code",
   "execution_count": null,
   "metadata": {},
   "outputs": [],
   "source": [
    "predictedHomes = predLocations[['id','loc','pred']][predLocations.pred==True].groupby('id').agg(lambda x : [*x.values])['loc']"
   ]
  },
  {
   "cell_type": "code",
   "execution_count": null,
   "metadata": {},
   "outputs": [],
   "source": [
    "xUserIds=labeledLocations.dropna()[labeledLocations.id==userIDS].drop(['id','cluster','loc','home_loc','home'],axis=1)\n",
    "predLocations[labeledLocations.id==userIDS]"
   ]
  },
  {
   "cell_type": "code",
   "execution_count": null,
   "metadata": {},
   "outputs": [],
   "source": [
    "def plotClusters(groupedLocations,labeledLocations,predictedHomes,userIDS):\n",
    "    folium_map=Plotting.getFoliumMap()\n",
    "    predictedHome = predictedHomes.loc[userIDS] if userIDS in predictedHomes.index else None\n",
    "    layer = getUserHomeLayer(groupedLocations.loc[userIDS]['loc'],labeledLocations[(labeledLocations.home==True)& (labeledLocations.id==userIDS)]['loc'].iloc[0],folium_map,predictedHome=predictedHome)\n",
    "    layer.add_to(folium_map)\n",
    "    folium.LayerControl(collapsed=False).add_to(folium_map)\n",
    "    return folium_map"
   ]
  },
  {
   "cell_type": "code",
   "execution_count": null,
   "metadata": {},
   "outputs": [],
   "source": [
    "classifier.predict_proba(xUserIds)"
   ]
  },
  {
   "cell_type": "code",
   "execution_count": null,
   "metadata": {},
   "outputs": [],
   "source": [
    "userIDS =predLocations[(predLocations.pred!=predLocations.home)&(predLocations.pred==True)].id.sample(1).values[0]\n",
    "plotClusters(groupedLocations,labeledLocations,predictedHomes,userIDS)"
   ]
  },
  {
   "cell_type": "code",
   "execution_count": null,
   "metadata": {},
   "outputs": [],
   "source": [
    "sklearn.model_selection.cross_validate(sklearn.ensemble.AdaBoostClassifier(sklearn.ensemble.RandomForestClassifier(n_estimators=10)),X,y,cv=10)"
   ]
  },
  {
   "cell_type": "code",
   "execution_count": null,
   "metadata": {},
   "outputs": [],
   "source": [
    "oneUser=groupedLocations.iloc[0]"
   ]
  },
  {
   "cell_type": "code",
   "execution_count": null,
   "metadata": {},
   "outputs": [],
   "source": [
    "def getStatsMan(userData):\n",
    "    userDF=pd.DataFrame(list(zip(*userData.values)),columns=['loc','time','speed','cluster'])\n",
    "    userDF.time=userDF.time.apply(lambda x: x.hour)    \n",
    "    df=userDF.groupby('cluster').describe()\n",
    "    df=df.drop(['count'],axis=1,level=1)\n",
    "    df.columns=df.columns.map('_'.join)\n",
    "    df=df.assign(loc_std=userDF.groupby('cluster')['loc'].apply(lambda x: np.sqrt(np.mean([CustomUtils.reverseVincenty(y,np.mean(x))**2 for y in x]))))\n",
    "    df.reset_index(inplace = True)\n",
    "    df=df.assign(id=userData.name)\n",
    "    df=df.assign(loc=userDF.groupby('cluster')['loc'].apply(np.mean).values)\n",
    "    return df"
   ]
  },
  {
   "cell_type": "code",
   "execution_count": null,
   "metadata": {},
   "outputs": [],
   "source": [
    "getStatsMan(oneUser)"
   ]
  },
  {
   "cell_type": "code",
   "execution_count": null,
   "metadata": {},
   "outputs": [],
   "source": [
    "1+1"
   ]
  },
  {
   "cell_type": "code",
   "execution_count": null,
   "metadata": {},
   "outputs": [],
   "source": [
    "1+1"
   ]
  },
  {
   "cell_type": "code",
   "execution_count": 74,
   "metadata": {},
   "outputs": [
    {
     "data": {
      "text/plain": [
       "2"
      ]
     },
     "execution_count": 74,
     "metadata": {},
     "output_type": "execute_result"
    }
   ],
   "source": [
    "1+1"
   ]
  },
  {
   "cell_type": "code",
   "execution_count": null,
   "metadata": {},
   "outputs": [],
   "source": []
  }
 ],
 "metadata": {
  "kernelspec": {
   "display_name": "python37",
   "language": "python",
   "name": "python37"
  },
  "language_info": {
   "codemirror_mode": {
    "name": "ipython",
    "version": 3
   },
   "file_extension": ".py",
   "mimetype": "text/x-python",
   "name": "python",
   "nbconvert_exporter": "python",
   "pygments_lexer": "ipython3",
   "version": "3.7.2"
  },
  "notify_time": "10",
  "toc-showtags": false,
  "varInspector": {
   "cols": {
    "lenName": 16,
    "lenType": 16,
    "lenVar": 40
   },
   "kernels_config": {
    "python": {
     "delete_cmd_postfix": "",
     "delete_cmd_prefix": "del ",
     "library": "var_list.py",
     "varRefreshCmd": "print(var_dic_list())"
    },
    "r": {
     "delete_cmd_postfix": ") ",
     "delete_cmd_prefix": "rm(",
     "library": "var_list.r",
     "varRefreshCmd": "cat(var_dic_list()) "
    }
   },
   "position": {
    "height": "715px",
    "left": "1154px",
    "right": "20px",
    "top": "111px",
    "width": "358px"
   },
   "types_to_exclude": [
    "module",
    "function",
    "builtin_function_or_method",
    "instance",
    "_Feature"
   ],
   "window_display": false
  }
 },
 "nbformat": 4,
 "nbformat_minor": 2
}

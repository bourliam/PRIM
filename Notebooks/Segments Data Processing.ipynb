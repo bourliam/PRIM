{
 "cells": [
  {
   "cell_type": "code",
   "execution_count": 1,
   "metadata": {
    "ExecuteTime": {
     "end_time": "2019-01-14T07:58:16.446796Z",
     "start_time": "2019-01-14T07:58:01.688053Z"
    }
   },
   "outputs": [
    {
     "name": "stdout",
     "output_type": "stream",
     "text": [
      "Waiting for connection file: ~/.ipython/profile_default/security/ipcontroller-client.json\n",
      "ipyparallel not loaded\n"
     ]
    }
   ],
   "source": [
    "#fit notebook width\n",
    "# from IPython.display import display, HTML\n",
    "\n",
    "# display(\n",
    "#     HTML(data=\"\"\"\n",
    "# <style>\n",
    "#     div#notebook-container    { width: 95%; }\n",
    "#     div#menubar-container     { width: 65%; }\n",
    "#     div#maintoolbar-container { width: 99%; }\n",
    "# </style>\n",
    "# \"\"\"))\n",
    "#from IPython.core.interactiveshell import InteractiveShell\n",
    "#InteractiveShell.ast_node_interactivity = \"all\"\n",
    "\n",
    "%load_ext autoreload\n",
    "from ipywidgets import interact, interactive, fixed, interact_manual\n",
    "import ipywidgets as widgets\n",
    "import time\n",
    "from importlib import reload\n",
    "\n",
    "\"\"\" *********************************************************************************************************************************** \"\"\"\n",
    "\n",
    "# MONGODB\n",
    "from pymongo import MongoClient\n",
    "from bson import  ObjectId\n",
    "import bsonnumpy\n",
    "#Ploting\n",
    "import folium\n",
    "from folium.plugins import FastMarkerCluster\n",
    "from folium.plugins import MarkerCluster\n",
    "import matplotlib\n",
    "import matplotlib.pyplot as plt\n",
    "import seaborn as sns\n",
    "# Data and processing\n",
    "import datetime\n",
    "import numpy as np\n",
    "import pandas as pd\n",
    "# Printing\n",
    "import pprint\n",
    "# parallel\n",
    "import os\n",
    "import ipyparallel as ipp\n",
    "try :    \n",
    "    rc = ipp.Client()\n",
    "    parll = rc[:]\n",
    "except OSError:\n",
    "    print('ipyparallel not loaded')\n",
    "\"\"\" *********************************************************************************************************************************** \"\"\"\n",
    "import sys\n",
    "sys.path.append('git/PRIM/source/')\n",
    "sys.path.append('git/PRIM/scripts/')\n",
    "\n",
    "import Trips\n",
    "import DataProcessing\n",
    "import Plotting\n",
    "import TripsProcessing\n",
    "import OsmProcessing\n",
    "import speed_matrix \n",
    "import CustomUtils\n",
    "import osmMerger\n",
    "from speed_matrix import SpeedMatrix\n",
    "from affect_road_to_point_para import get_north_azimut\n",
    "\"\"\" *********************************************************************************************************************************** \"\"\"\n",
    "\n",
    "%aimport pandas , numpy , matplotlib, seaborn, os, sys, ipyparallel, pprint, folium, datetime\n",
    "sns.set()"
   ]
  },
  {
   "cell_type": "code",
   "execution_count": 6,
   "metadata": {},
   "outputs": [],
   "source": [
    "client= MongoClient()\n",
    "osmWays=client.osm.ways"
   ]
  },
  {
   "cell_type": "code",
   "execution_count": 8,
   "metadata": {
    "ExecuteTime": {
     "end_time": "2019-01-11T10:44:42.326807Z",
     "start_time": "2019-01-11T10:44:29.433Z"
    }
   },
   "outputs": [],
   "source": [
    "segments = OsmProcessing.getSegments(osmWays)\n",
    "segments = OsmProcessing.setOneWay(segments)\n"
   ]
  },
  {
   "cell_type": "code",
   "execution_count": 12,
   "metadata": {},
   "outputs": [],
   "source": [
    "myPointsDF = DataProcessing.loadRawData(coyoteData)"
   ]
  },
  {
   "cell_type": "code",
   "execution_count": 14,
   "metadata": {
    "ExecuteTime": {
     "end_time": "2019-01-10T11:17:19.999498Z",
     "start_time": "2019-01-10T11:14:59.177893Z"
    }
   },
   "outputs": [],
   "source": [
    "myPointsDF = myPointsDF[myPointsDF.matching_road.isin(segments.index)]\n",
    "myPointsDF.reset_index(drop=True, inplace=True)"
   ]
  },
  {
   "cell_type": "code",
   "execution_count": null,
   "metadata": {
    "ExecuteTime": {
     "end_time": "2019-01-09T15:17:28.257738Z",
     "start_time": "2019-01-09T15:16:35.600520Z"
    }
   },
   "outputs": [],
   "source": [
    "def discreteTimeID(pdf, nMinutes):\n",
    "    if (nMinutes <= 0 or nMinutes > 60):\n",
    "        print(\"Error : Number of minutes must be under 60\")\n",
    "        return\n",
    "    return pdf.time.dt.hour * int(\n",
    "        60 / nMinutes) + myPointsDF.time.dt.minute.apply(\n",
    "            lambda x: int(x / nMinutes))\n",
    "\n",
    "\n",
    "myPointsDF = myPointsDF.assign(heure=discreteTimeID(myPointsDF, 60))\n",
    "myPointsDF = myPointsDF.assign(demi_heure=discreteTimeID(myPointsDF, 30))\n",
    "myPointsDF = myPointsDF.assign(quart_heure=discreteTimeID(myPointsDF, 15))\n",
    "myPointsDF = myPointsDF.assign(\n",
    "    day=myPointsDF.time.apply(lambda x: pd.to_datetime(x).date()))"
   ]
  },
  {
   "cell_type": "code",
   "execution_count": null,
   "metadata": {
    "ExecuteTime": {
     "end_time": "2019-01-09T15:17:32.756930Z",
     "start_time": "2019-01-09T15:17:28.262992Z"
    },
    "scrolled": true
   },
   "outputs": [],
   "source": [
    "myPointsDF.describe()"
   ]
  },
  {
   "cell_type": "code",
   "execution_count": null,
   "metadata": {
    "ExecuteTime": {
     "end_time": "2019-01-09T15:17:32.771760Z",
     "start_time": "2019-01-09T15:17:32.764078Z"
    }
   },
   "outputs": [],
   "source": [
    "roadGroups = myPointsDF.groupby(\"matching_road\")"
   ]
  },
  {
   "cell_type": "markdown",
   "metadata": {},
   "source": [
    "## Number of devices per segment"
   ]
  },
  {
   "cell_type": "code",
   "execution_count": null,
   "metadata": {
    "ExecuteTime": {
     "end_time": "2019-01-09T15:17:34.627852Z",
     "start_time": "2019-01-09T15:17:32.777903Z"
    },
    "scrolled": true
   },
   "outputs": [],
   "source": [
    "plt.figure(figsize=(14, 4))\n",
    "plt.subplot(121)\n",
    "roadGroups.size().plot.box(\n",
    "    showfliers=False, whis=3, label=\"NB devices per segment\", showmeans=True)\n",
    "plt.subplot(122)\n",
    "roadGroups.size().plot.box(\n",
    "    whis=3, label=\"NB devices per segment\", showmeans=True)\n",
    "cents = roadGroups.size().quantile(np.arange(0, 1.01, 0.1))\n",
    "cents.index = ['min'] + [\"C\" + str(i) for i in range(10, 100, 10)] + ['max']\n",
    "pd.DataFrame(cents).T"
   ]
  },
  {
   "cell_type": "markdown",
   "metadata": {},
   "source": [
    "## Number of devices per (15/30/60) minutes (over all days)"
   ]
  },
  {
   "cell_type": "code",
   "execution_count": null,
   "metadata": {
    "ExecuteTime": {
     "end_time": "2019-01-09T15:17:39.573689Z",
     "start_time": "2019-01-09T15:17:34.633829Z"
    },
    "scrolled": true
   },
   "outputs": [],
   "source": [
    "plt.figure(figsize=(18, 4))\n",
    "plt.subplot(131)\n",
    "\n",
    "quartGroups = myPointsDF.groupby([\"matching_road\", 'quart_heure'])\n",
    "quartGroups.size().unstack('quart_heure').fillna(0).sum().plot.box(\n",
    "    label='NB devices per 15 minutes', showmeans=True)\n",
    "\n",
    "plt.subplot(132)\n",
    "demiGroups = myPointsDF.groupby([\"matching_road\", 'demi_heure'])\n",
    "demiGroups.size().unstack('demi_heure').fillna(0).sum().plot.box(\n",
    "    label='NB devices per 30 minutes', showmeans=True)\n",
    "\n",
    "plt.subplot(133)\n",
    "heureGroups = myPointsDF.groupby([\"matching_road\", 'heure'])\n",
    "heureGroups.size().unstack('heure').fillna(0).sum().plot.box(\n",
    "    label='NB devices per 60 minutes', showmeans=True)"
   ]
  },
  {
   "cell_type": "markdown",
   "metadata": {},
   "source": [
    "## points distribution over hours for each day"
   ]
  },
  {
   "cell_type": "code",
   "execution_count": null,
   "metadata": {
    "ExecuteTime": {
     "end_time": "2019-01-09T15:17:42.001602Z",
     "start_time": "2019-01-09T15:17:39.579003Z"
    },
    "scrolled": true
   },
   "outputs": [],
   "source": [
    "myPointsDF.groupby(['day',\n",
    "                    'heure']).size().unstack('heure').fillna(0).plot.bar(\n",
    "                        color=plt.cm.hsv(np.arange(0, 1, 1 / 24)),\n",
    "                        figsize=(24, 4))\n",
    "plt.legend(ncol=12)"
   ]
  },
  {
   "cell_type": "markdown",
   "metadata": {},
   "source": [
    "## points distribution over days for each hour"
   ]
  },
  {
   "cell_type": "code",
   "execution_count": null,
   "metadata": {
    "ExecuteTime": {
     "end_time": "2019-01-09T15:17:44.301845Z",
     "start_time": "2019-01-09T15:17:42.008913Z"
    },
    "scrolled": true
   },
   "outputs": [],
   "source": [
    "myPointsDF.groupby(['day', 'heure']).size().unstack('day').fillna(0).plot.bar(\n",
    "    color=plt.cm.hsv(np.arange(0, 1, 1 / 8)), figsize=(24, 8))\n",
    "plt.legend(ncol=12)"
   ]
  },
  {
   "cell_type": "markdown",
   "metadata": {},
   "source": [
    "## heatmaps  points distribution over quarters of hour for each day"
   ]
  },
  {
   "cell_type": "code",
   "execution_count": null,
   "metadata": {
    "ExecuteTime": {
     "end_time": "2019-01-09T15:17:45.272746Z",
     "start_time": "2019-01-09T15:17:44.306922Z"
    },
    "scrolled": true
   },
   "outputs": [],
   "source": [
    "plt.figure(figsize=(18, 6))\n",
    "plt.imshow(\n",
    "    myPointsDF.groupby(['day', 'quart_heure']).size().unstack('day').fillna(0),\n",
    "    aspect='auto')"
   ]
  },
  {
   "cell_type": "markdown",
   "metadata": {},
   "source": [
    "## number of points per segment per  day per hour"
   ]
  },
  {
   "cell_type": "code",
   "execution_count": null,
   "metadata": {
    "ExecuteTime": {
     "end_time": "2019-01-09T15:17:52.485866Z",
     "start_time": "2019-01-09T15:17:45.286541Z"
    }
   },
   "outputs": [],
   "source": [
    "heureGroups = myPointsDF.groupby([\"matching_road\", 'heure'])\n",
    "heureGroups.size(\n",
    ").unstack('heure').fillna(0).mean(level='matching_road').plot.box(\n",
    "    figsize=(24, 6),\n",
    "    showfliers=False,\n",
    "    whis=3,\n",
    "    title=\"average NB devices per segment per hour per day(outliers omitted)\",\n",
    "    showmeans=True)\n",
    "heureGroups = myPointsDF.groupby(['day', \"matching_road\", 'heure'])\n",
    "heureGroups.size().unstack('heure').fillna(0).mean(\n",
    "    level='matching_road').plot.box(\n",
    "        figsize=(24, 6),\n",
    "        showfliers=True,\n",
    "        whis=3,\n",
    "        title=\"average NB devices per segment per hour per day\",\n",
    "        showmeans=True)\n",
    "\n",
    "cents = heureGroups.size().unstack('heure').fillna(0).mean(\n",
    "    level='matching_road').quantile(np.arange(0, 1.01, 0.1))\n",
    "cents.index = ['min'] + [\"C\" + str(i) for i in range(10, 100, 10)] + ['max']\n",
    "pd.DataFrame(cents).T"
   ]
  },
  {
   "cell_type": "markdown",
   "metadata": {},
   "source": [
    "## Number of points per segment for each hour over all period"
   ]
  },
  {
   "cell_type": "code",
   "execution_count": null,
   "metadata": {
    "ExecuteTime": {
     "end_time": "2019-01-09T15:17:57.402307Z",
     "start_time": "2019-01-09T15:17:52.494662Z"
    },
    "scrolled": true
   },
   "outputs": [],
   "source": [
    "plt.figure(figsize=(20, 6))\n",
    "segmentsDenseDF = myPointsDF.groupby(\n",
    "    ['day', \"matching_road\",\n",
    "     'quart_heure']).size().unstack(['day']).unstack('quart_heure').fillna(0)\n",
    "plt.imshow(np.log(segmentsDenseDF), aspect='auto')\n",
    "segmentsDenseDF"
   ]
  },
  {
   "cell_type": "code",
   "execution_count": null,
   "metadata": {
    "ExecuteTime": {
     "end_time": "2019-01-09T15:18:21.407342Z",
     "start_time": "2019-01-09T15:17:57.410533Z"
    },
    "scrolled": true
   },
   "outputs": [],
   "source": [
    "date = segmentsDenseDF.columns.levels[0][0]\n",
    "hour = 91\n",
    "maxDens = segmentsDenseDF[date][hour].max()\n",
    "\n",
    "folium_map = folium.Map(\n",
    "    location=[48.14301, -1.69537], zoom_start=13, tiles=\"OpenStreetMap\")\n",
    "\n",
    "[\n",
    "    folium.PolyLine(\n",
    "        locations=[[lo[1], lo[0]] for lo in segments[segments.index == segID]\n",
    "                   ['loc'].iloc[0]['coordinates']],\n",
    "        color=matplotlib.colors.rgb2hex(\n",
    "            plt.cm.hot_r(\n",
    "                np.log(segmentsDenseDF.loc[segID].loc[date].loc[hour] + 1) /\n",
    "                (np.log(maxDens) + 1)))).add_to(folium_map)\n",
    "    for segID in segmentsDenseDF.index.values\n",
    "]\n",
    "folium_map.save('segmentsDensity.html')"
   ]
  },
  {
   "cell_type": "code",
   "execution_count": null,
   "metadata": {
    "ExecuteTime": {
     "end_time": "2019-01-09T15:18:28.529876Z",
     "start_time": "2019-01-09T15:18:21.427810Z"
    }
   },
   "outputs": [],
   "source": [
    "segmentsSpeedDF = myPointsDF.groupby(\n",
    "    ['day', \"matching_road\", 'quart_heure']).mean()['speed'].unstack(\n",
    "        ['day']).unstack('quart_heure').fillna(0)"
   ]
  },
  {
   "cell_type": "code",
   "execution_count": null,
   "metadata": {
    "ExecuteTime": {
     "end_time": "2019-01-09T15:18:51.013548Z",
     "start_time": "2019-01-09T15:18:28.539957Z"
    }
   },
   "outputs": [],
   "source": [
    "date = datetime.date(2018, 11, 18)\n",
    "hour = 91\n",
    "maxDens = segmentsSpeedDF[date][hour].max()\n",
    "\n",
    "folium_map = folium.Map(\n",
    "    location=[48.14301, -1.69537], zoom_start=13, tiles=\"OpenStreetMap\")\n",
    "\n",
    "[\n",
    "    folium.PolyLine(\n",
    "        locations=[[lo[1], lo[0]] for lo in segments[segments.index == segID]\n",
    "                   ['loc'].iloc[0]['coordinates']],\n",
    "        color=matplotlib.colors.rgb2hex(\n",
    "            plt.cm.hot_r(segmentsSpeedDF.loc[segID].loc[date].loc[hour] /\n",
    "                         maxDens))).add_to(folium_map)\n",
    "    for segID in segmentsSpeedDF.index.values\n",
    "]\n",
    "\n",
    "folium_map.save('segmentsSpeed.html')"
   ]
  },
  {
   "cell_type": "code",
   "execution_count": null,
   "metadata": {
    "ExecuteTime": {
     "end_time": "2019-01-09T15:18:51.091507Z",
     "start_time": "2019-01-09T15:18:51.018991Z"
    },
    "scrolled": true
   },
   "outputs": [],
   "source": [
    "segmentsDenseDF.head(1)"
   ]
  },
  {
   "cell_type": "code",
   "execution_count": null,
   "metadata": {
    "ExecuteTime": {
     "end_time": "2019-01-09T15:18:51.276415Z",
     "start_time": "2019-01-09T15:18:51.096996Z"
    },
    "scrolled": true
   },
   "outputs": [],
   "source": [
    "segmentsDenseDF[[datetime.date(2018, 11, x) for x in range(19, 23)]]"
   ]
  },
  {
   "cell_type": "code",
   "execution_count": null,
   "metadata": {
    "ExecuteTime": {
     "end_time": "2019-01-09T15:18:57.948947Z",
     "start_time": "2019-01-09T15:18:51.281564Z"
    }
   },
   "outputs": [],
   "source": [
    "segmentsDenseDF[[datetime.date(2018, 11, x)\n",
    "                 for x in range(19, 23)]].to_csv(\"segments density.csv\")\n",
    "segmentsSpeedDF[[datetime.date(2018, 11, x)\n",
    "                 for x in range(19, 23)]].to_csv(\"segments speed.csv\")"
   ]
  },
  {
   "cell_type": "code",
   "execution_count": null,
   "metadata": {
    "ExecuteTime": {
     "end_time": "2019-01-09T15:18:59.655661Z",
     "start_time": "2019-01-09T15:18:57.954839Z"
    }
   },
   "outputs": [],
   "source": [
    "segmentsDenseDF[[datetime.date(2018, 11, x)\n",
    "                 for x in range(16, 17)]].to_csv(\"segments density TEST.csv\")\n",
    "segmentsSpeedDF[[datetime.date(2018, 11, x)\n",
    "                 for x in range(16, 17)]].to_csv(\"segments speed TEST.csv\")"
   ]
  },
  {
   "cell_type": "code",
   "execution_count": null,
   "metadata": {
    "ExecuteTime": {
     "end_time": "2019-01-09T15:23:32.742692Z",
     "start_time": "2019-01-09T15:23:12.586457Z"
    }
   },
   "outputs": [],
   "source": [
    "folium_map = folium.Map(\n",
    "    location=[48.14301, -1.69537], zoom_start=13, tiles=\"OpenStreetMap\")\n",
    "\n",
    "[\n",
    "    folium.PolyLine(\n",
    "        locations=[[lo[1], lo[0]]\n",
    "                   for lo in hierarchy['loc'].iloc[idx]['coordinates']],\n",
    "        popup=str(hierarchy.length.iloc[idx]),\n",
    "        color=matplotlib.colors.rgb2hex(\n",
    "            plt.cm.hot_r(hierarchy.length.iloc[idx] /\n",
    "                         hierarchy.length.max()))).add_to(folium_map)\n",
    "    for idx in range(len(hierarchy))\n",
    "]\n",
    "\n",
    "folium_map.save('distances.html')"
   ]
  },
  {
   "cell_type": "code",
   "execution_count": null,
   "metadata": {
    "ExecuteTime": {
     "end_time": "2019-01-09T15:23:33.175754Z",
     "start_time": "2019-01-09T15:23:32.749916Z"
    }
   },
   "outputs": [],
   "source": [
    "hierarchy.to_pickle(\"hierarchy.pckl\")"
   ]
  },
  {
   "cell_type": "markdown",
   "metadata": {},
   "source": [
    "# Speed Matrix"
   ]
  },
  {
   "cell_type": "code",
   "execution_count": 10,
   "metadata": {
    "ExecuteTime": {
     "end_time": "2019-01-10T12:28:33.605503Z",
     "start_time": "2019-01-10T12:28:33.325111Z"
    }
   },
   "outputs": [],
   "source": [
    "def setDateAndTimeIndex(df):\n",
    "    idx=[pd.to_datetime(df.columns.values).date,pd.to_datetime(df.columns.values).time]\n",
    "    mIdx=pd.MultiIndex.from_arrays(idx,names=['day','time'])\n",
    "    df.set_axis(mIdx,axis=1,inplace=True)\n",
    "    \n",
    "\n",
    "def getMaxSpeed(speedMX,segmentsMaxSpeed):\n",
    "    observedMax= speedMX.max(axis=1)\n",
    "    maxSpeed= pd.Series(segmentsMaxSpeed[np.array([*map(lambda x : int(x[:-2]),speedMX.index.values)])].values,index=speedMX.index)\n",
    "    return maxSpeed.fillna(observedMax)\n",
    "\n",
    "def setWeightedSpeed(speedMX,densityMX,meanMX,densityThreshold):\n",
    "    # weighted mean\n",
    "    speedMX = ((densityMX>=densityThreshold)*speedMX).add(\n",
    "                  (densityMX<densityThreshold)*(((densityMX/densityThreshold)*speedMX).add( ((densityThreshold-densityMX)/densityThreshold)*meanMX , fill_value = 0) )\n",
    "                ,fill_value=0)\n",
    "    return speedMX\n",
    "\n",
    "def setMaxSpeed(speedMX,maxSpeedMX):\n",
    "    speedMX.apply(lambda x : x.fillna(maxSpeedMX,inplace=True))\n",
    "    "
   ]
  },
  {
   "cell_type": "code",
   "execution_count": null,
   "metadata": {
    "ExecuteTime": {
     "end_time": "2019-01-10T12:26:24.241702Z",
     "start_time": "2019-01-10T12:26:23.989903Z"
    }
   },
   "outputs": [],
   "source": [
    "# densityMX = pd.DataFrame(data=np.ones(speedMX.shape),columns=speedMX.columns,index=speedMX.index)\n",
    "\n",
    "# meanMX=speedMX.groupby(by=speedMX.columns.get_level_values(1),axis=1).mean()\n",
    "\n",
    "# maxSpeedMX = getMaxSpeed(speedMX,segmentsMeta.maxSpeed)\n",
    "\n",
    "# speedMX = setWeightedSpeed(speedMX,densityMX,meanMX,2)\n",
    "\n",
    "# setMaxSpeed(speedMX,maxSpeedMX)"
   ]
  },
  {
   "cell_type": "code",
   "execution_count": null,
   "metadata": {},
   "outputs": [],
   "source": [
    "def getColumnSlice(columns,minTime=datetime.time(17),maxTime=datetime.time(20)):\n",
    "    return columns[np.fromiter(map(lambda x : (x.time()>minTime and x.time()<maxTime),columns),np.bool)]\n",
    "    "
   ]
  },
  {
   "cell_type": "code",
   "execution_count": 14,
   "metadata": {},
   "outputs": [],
   "source": [
    "osmMerger = reload(osmMerger)"
   ]
  },
  {
   "cell_type": "code",
   "execution_count": 11,
   "metadata": {},
   "outputs": [],
   "source": [
    "from mongoConnection import *"
   ]
  },
  {
   "cell_type": "code",
   "execution_count": 10,
   "metadata": {},
   "outputs": [],
   "source": [
    "sm = SpeedMatrix(\"congestion\", \"coyote2\", \"osm\", \"roads\")\n",
    "roads_ids = segments.index.values.tolist()\n",
    "speeds,counts = sm.get_speed_matrix(15, roads_ids, 14, 19)"
   ]
  },
  {
   "cell_type": "code",
   "execution_count": null,
   "metadata": {},
   "outputs": [],
   "source": [
    "reload()"
   ]
  },
  {
   "cell_type": "code",
   "execution_count": 14,
   "metadata": {},
   "outputs": [],
   "source": [
    "speeds.to_pickle(\"speeds1419.pckl\")\n",
    "counts.to_pickle(\"counts1419.pckl\")"
   ]
  },
  {
   "cell_type": "code",
   "execution_count": 19,
   "metadata": {},
   "outputs": [
    {
     "data": {
      "text/plain": [
       "count    6471.000000\n",
       "mean      230.956266\n",
       "std        89.311379\n",
       "min         0.000000\n",
       "25%       184.000000\n",
       "50%       264.000000\n",
       "75%       303.000000\n",
       "max       319.000000\n",
       "dtype: float64"
      ]
     },
     "execution_count": 19,
     "metadata": {},
     "output_type": "execute_result"
    }
   ],
   "source": [
    "speeds.isna().sum(axis=1).describe()"
   ]
  },
  {
   "cell_type": "code",
   "execution_count": 15,
   "metadata": {},
   "outputs": [
    {
     "name": "stdout",
     "output_type": "stream",
     "text": [
      "Computing raw data : \n",
      "first time call or reset : starting counter\n",
      "getting segments and meta :\n"
     ]
    },
    {
     "ename": "KeyboardInterrupt",
     "evalue": "",
     "output_type": "error",
     "traceback": [
      "\u001b[0;31m---------------------------------------------------------------------------\u001b[0m",
      "\u001b[0;31mKeyboardInterrupt\u001b[0m                         Traceback (most recent call last)",
      "\u001b[0;32m<ipython-input-15-87765fcc2e12>\u001b[0m in \u001b[0;36m<module>\u001b[0;34m()\u001b[0m\n\u001b[0;32m----> 1\u001b[0;31m \u001b[0mmergeResults\u001b[0m\u001b[0;34m,\u001b[0m\u001b[0mfmap\u001b[0m \u001b[0;34m=\u001b[0m \u001b[0mosmMerger\u001b[0m\u001b[0;34m.\u001b[0m\u001b[0mmergeSegments\u001b[0m\u001b[0;34m(\u001b[0m\u001b[0mminValidData\u001b[0m \u001b[0;34m=\u001b[0m \u001b[0mosmMerger\u001b[0m\u001b[0;34m.\u001b[0m\u001b[0mMIN_VALID_DATA\u001b[0m\u001b[0;34m,\u001b[0m \u001b[0mweights\u001b[0m\u001b[0;34m=\u001b[0m\u001b[0mosmMerger\u001b[0m\u001b[0;34m.\u001b[0m\u001b[0mWEIGHTS\u001b[0m\u001b[0;34m,\u001b[0m\u001b[0mspeedsMx\u001b[0m\u001b[0;34m=\u001b[0m\u001b[0mspeeds\u001b[0m\u001b[0;34m)\u001b[0m\u001b[0;34m\u001b[0m\u001b[0;34m\u001b[0m\u001b[0m\n\u001b[0m",
      "\u001b[0;32m~/code/git/PRIM/source/osmMerger.py\u001b[0m in \u001b[0;36mmergeSegments\u001b[0;34m(minValidData, weights, speedsMx)\u001b[0m\n\u001b[1;32m    377\u001b[0m     \u001b[0msegments\u001b[0m \u001b[0;34m=\u001b[0m \u001b[0mOsmProcessing\u001b[0m\u001b[0;34m.\u001b[0m\u001b[0msetOneWay\u001b[0m\u001b[0;34m(\u001b[0m\u001b[0msegments\u001b[0m\u001b[0;34m)\u001b[0m\u001b[0;34m\u001b[0m\u001b[0;34m\u001b[0m\u001b[0m\n\u001b[1;32m    378\u001b[0m     \u001b[0mmergeRoundaboutChunks\u001b[0m\u001b[0;34m(\u001b[0m\u001b[0msegments\u001b[0m\u001b[0;34m)\u001b[0m\u001b[0;34m\u001b[0m\u001b[0;34m\u001b[0m\u001b[0m\n\u001b[0;32m--> 379\u001b[0;31m     \u001b[0msegmentsMeta\u001b[0m \u001b[0;34m=\u001b[0m \u001b[0mOsmProcessing\u001b[0m\u001b[0;34m.\u001b[0m\u001b[0mbuildSegmentsMeta\u001b[0m\u001b[0;34m(\u001b[0m\u001b[0msegments\u001b[0m\u001b[0;34m,\u001b[0m\u001b[0mlinearOnly\u001b[0m\u001b[0;34m=\u001b[0m\u001b[0;32mTrue\u001b[0m\u001b[0;34m)\u001b[0m\u001b[0;34m\u001b[0m\u001b[0;34m\u001b[0m\u001b[0m\n\u001b[0m\u001b[1;32m    380\u001b[0m     \u001b[0mremoveRounabouts\u001b[0m\u001b[0;34m(\u001b[0m\u001b[0msegmentsMeta\u001b[0m\u001b[0;34m)\u001b[0m\u001b[0;34m\u001b[0m\u001b[0;34m\u001b[0m\u001b[0m\n\u001b[1;32m    381\u001b[0m     \u001b[0mprint\u001b[0m\u001b[0;34m(\u001b[0m\u001b[0mgetTimeSpent\u001b[0m\u001b[0;34m(\u001b[0m\u001b[0;34m)\u001b[0m\u001b[0;34m)\u001b[0m\u001b[0;34m\u001b[0m\u001b[0;34m\u001b[0m\u001b[0m\n",
      "\u001b[0;32m~/code/git/PRIM/source/OsmProcessing.py\u001b[0m in \u001b[0;36mbuildSegmentsMeta\u001b[0;34m(segments, points, speedindex, linearOnly)\u001b[0m\n\u001b[1;32m    143\u001b[0m     \u001b[0;32melse\u001b[0m\u001b[0;34m:\u001b[0m\u001b[0;34m\u001b[0m\u001b[0;34m\u001b[0m\u001b[0m\n\u001b[1;32m    144\u001b[0m         \u001b[0mins\u001b[0m \u001b[0;34m=\u001b[0m \u001b[0msegs\u001b[0m\u001b[0;34m.\u001b[0m\u001b[0mnodes\u001b[0m\u001b[0;34m.\u001b[0m\u001b[0mapply\u001b[0m\u001b[0;34m(\u001b[0m\u001b[0;32mlambda\u001b[0m \u001b[0mx\u001b[0m \u001b[0;34m:\u001b[0m \u001b[0msegs\u001b[0m\u001b[0;34m.\u001b[0m\u001b[0mindex\u001b[0m\u001b[0;34m[\u001b[0m\u001b[0msegs\u001b[0m\u001b[0;34m.\u001b[0m\u001b[0mnodes\u001b[0m\u001b[0;34m.\u001b[0m\u001b[0mapply\u001b[0m\u001b[0;34m(\u001b[0m\u001b[0;32mlambda\u001b[0m \u001b[0my\u001b[0m \u001b[0;34m:\u001b[0m  \u001b[0;34m(\u001b[0m\u001b[0mx\u001b[0m\u001b[0;34m[\u001b[0m\u001b[0;36m0\u001b[0m\u001b[0;34m]\u001b[0m \u001b[0;34m==\u001b[0m \u001b[0my\u001b[0m\u001b[0;34m[\u001b[0m\u001b[0;34m-\u001b[0m\u001b[0;36m1\u001b[0m\u001b[0;34m]\u001b[0m\u001b[0;34m)\u001b[0m \u001b[0;32mand\u001b[0m \u001b[0mx\u001b[0m\u001b[0;34m!=\u001b[0m\u001b[0my\u001b[0m \u001b[0;32mand\u001b[0m \u001b[0mx\u001b[0m\u001b[0;34m!=\u001b[0m\u001b[0my\u001b[0m\u001b[0;34m[\u001b[0m\u001b[0;34m:\u001b[0m\u001b[0;34m:\u001b[0m\u001b[0;34m-\u001b[0m\u001b[0;36m1\u001b[0m\u001b[0;34m]\u001b[0m\u001b[0;34m)\u001b[0m\u001b[0;34m]\u001b[0m\u001b[0;34m.\u001b[0m\u001b[0mvalues\u001b[0m\u001b[0;34m)\u001b[0m\u001b[0;34m\u001b[0m\u001b[0;34m\u001b[0m\u001b[0m\n\u001b[0;32m--> 145\u001b[0;31m         \u001b[0mouts\u001b[0m \u001b[0;34m=\u001b[0m \u001b[0msegs\u001b[0m\u001b[0;34m.\u001b[0m\u001b[0mnodes\u001b[0m\u001b[0;34m.\u001b[0m\u001b[0mapply\u001b[0m\u001b[0;34m(\u001b[0m\u001b[0;32mlambda\u001b[0m \u001b[0mx\u001b[0m \u001b[0;34m:\u001b[0m \u001b[0msegs\u001b[0m\u001b[0;34m.\u001b[0m\u001b[0mindex\u001b[0m\u001b[0;34m[\u001b[0m\u001b[0msegs\u001b[0m\u001b[0;34m.\u001b[0m\u001b[0mnodes\u001b[0m\u001b[0;34m.\u001b[0m\u001b[0mapply\u001b[0m\u001b[0;34m(\u001b[0m\u001b[0;32mlambda\u001b[0m \u001b[0my\u001b[0m \u001b[0;34m:\u001b[0m \u001b[0;34m(\u001b[0m\u001b[0mx\u001b[0m\u001b[0;34m[\u001b[0m\u001b[0;34m-\u001b[0m\u001b[0;36m1\u001b[0m\u001b[0;34m]\u001b[0m \u001b[0;34m==\u001b[0m \u001b[0my\u001b[0m\u001b[0;34m[\u001b[0m\u001b[0;36m0\u001b[0m\u001b[0;34m]\u001b[0m\u001b[0;34m)\u001b[0m \u001b[0;32mand\u001b[0m \u001b[0mx\u001b[0m\u001b[0;34m!=\u001b[0m\u001b[0my\u001b[0m \u001b[0;32mand\u001b[0m \u001b[0mx\u001b[0m\u001b[0;34m!=\u001b[0m\u001b[0my\u001b[0m\u001b[0;34m[\u001b[0m\u001b[0;34m:\u001b[0m\u001b[0;34m:\u001b[0m\u001b[0;34m-\u001b[0m\u001b[0;36m1\u001b[0m\u001b[0;34m]\u001b[0m\u001b[0;34m)\u001b[0m\u001b[0;34m]\u001b[0m\u001b[0;34m.\u001b[0m\u001b[0mvalues\u001b[0m\u001b[0;34m)\u001b[0m\u001b[0;34m\u001b[0m\u001b[0;34m\u001b[0m\u001b[0m\n\u001b[0m\u001b[1;32m    146\u001b[0m \u001b[0;34m\u001b[0m\u001b[0m\n\u001b[1;32m    147\u001b[0m     \u001b[0mins\u001b[0m \u001b[0;34m=\u001b[0m \u001b[0mins\u001b[0m\u001b[0;34m.\u001b[0m\u001b[0mgroupby\u001b[0m\u001b[0;34m(\u001b[0m\u001b[0;34m'segmentIndex'\u001b[0m\u001b[0;34m)\u001b[0m\u001b[0;34m.\u001b[0m\u001b[0mapply\u001b[0m\u001b[0;34m(\u001b[0m\u001b[0;32mlambda\u001b[0m \u001b[0mx\u001b[0m \u001b[0;34m:\u001b[0m \u001b[0mnp\u001b[0m\u001b[0;34m.\u001b[0m\u001b[0munique\u001b[0m\u001b[0;34m(\u001b[0m\u001b[0mnp\u001b[0m\u001b[0;34m.\u001b[0m\u001b[0mconcatenate\u001b[0m\u001b[0;34m(\u001b[0m\u001b[0;34m[\u001b[0m\u001b[0;34m*\u001b[0m\u001b[0mx\u001b[0m\u001b[0;34m]\u001b[0m\u001b[0;34m)\u001b[0m\u001b[0;34m)\u001b[0m\u001b[0;34m)\u001b[0m\u001b[0;34m\u001b[0m\u001b[0;34m\u001b[0m\u001b[0m\n",
      "\u001b[0;32m/usr/lib64/python3.7/site-packages/pandas/core/series.py\u001b[0m in \u001b[0;36mapply\u001b[0;34m(self, func, convert_dtype, args, **kwds)\u001b[0m\n\u001b[1;32m   3192\u001b[0m             \u001b[0;32melse\u001b[0m\u001b[0;34m:\u001b[0m\u001b[0;34m\u001b[0m\u001b[0;34m\u001b[0m\u001b[0m\n\u001b[1;32m   3193\u001b[0m                 \u001b[0mvalues\u001b[0m \u001b[0;34m=\u001b[0m \u001b[0mself\u001b[0m\u001b[0;34m.\u001b[0m\u001b[0mastype\u001b[0m\u001b[0;34m(\u001b[0m\u001b[0mobject\u001b[0m\u001b[0;34m)\u001b[0m\u001b[0;34m.\u001b[0m\u001b[0mvalues\u001b[0m\u001b[0;34m\u001b[0m\u001b[0;34m\u001b[0m\u001b[0m\n\u001b[0;32m-> 3194\u001b[0;31m                 \u001b[0mmapped\u001b[0m \u001b[0;34m=\u001b[0m \u001b[0mlib\u001b[0m\u001b[0;34m.\u001b[0m\u001b[0mmap_infer\u001b[0m\u001b[0;34m(\u001b[0m\u001b[0mvalues\u001b[0m\u001b[0;34m,\u001b[0m \u001b[0mf\u001b[0m\u001b[0;34m,\u001b[0m \u001b[0mconvert\u001b[0m\u001b[0;34m=\u001b[0m\u001b[0mconvert_dtype\u001b[0m\u001b[0;34m)\u001b[0m\u001b[0;34m\u001b[0m\u001b[0;34m\u001b[0m\u001b[0m\n\u001b[0m\u001b[1;32m   3195\u001b[0m \u001b[0;34m\u001b[0m\u001b[0m\n\u001b[1;32m   3196\u001b[0m         \u001b[0;32mif\u001b[0m \u001b[0mlen\u001b[0m\u001b[0;34m(\u001b[0m\u001b[0mmapped\u001b[0m\u001b[0;34m)\u001b[0m \u001b[0;32mand\u001b[0m \u001b[0misinstance\u001b[0m\u001b[0;34m(\u001b[0m\u001b[0mmapped\u001b[0m\u001b[0;34m[\u001b[0m\u001b[0;36m0\u001b[0m\u001b[0;34m]\u001b[0m\u001b[0;34m,\u001b[0m \u001b[0mSeries\u001b[0m\u001b[0;34m)\u001b[0m\u001b[0;34m:\u001b[0m\u001b[0;34m\u001b[0m\u001b[0;34m\u001b[0m\u001b[0m\n",
      "\u001b[0;32mpandas/_libs/src/inference.pyx\u001b[0m in \u001b[0;36mpandas._libs.lib.map_infer\u001b[0;34m()\u001b[0m\n",
      "\u001b[0;32m~/code/git/PRIM/source/OsmProcessing.py\u001b[0m in \u001b[0;36m<lambda>\u001b[0;34m(x)\u001b[0m\n\u001b[1;32m    143\u001b[0m     \u001b[0;32melse\u001b[0m\u001b[0;34m:\u001b[0m\u001b[0;34m\u001b[0m\u001b[0;34m\u001b[0m\u001b[0m\n\u001b[1;32m    144\u001b[0m         \u001b[0mins\u001b[0m \u001b[0;34m=\u001b[0m \u001b[0msegs\u001b[0m\u001b[0;34m.\u001b[0m\u001b[0mnodes\u001b[0m\u001b[0;34m.\u001b[0m\u001b[0mapply\u001b[0m\u001b[0;34m(\u001b[0m\u001b[0;32mlambda\u001b[0m \u001b[0mx\u001b[0m \u001b[0;34m:\u001b[0m \u001b[0msegs\u001b[0m\u001b[0;34m.\u001b[0m\u001b[0mindex\u001b[0m\u001b[0;34m[\u001b[0m\u001b[0msegs\u001b[0m\u001b[0;34m.\u001b[0m\u001b[0mnodes\u001b[0m\u001b[0;34m.\u001b[0m\u001b[0mapply\u001b[0m\u001b[0;34m(\u001b[0m\u001b[0;32mlambda\u001b[0m \u001b[0my\u001b[0m \u001b[0;34m:\u001b[0m  \u001b[0;34m(\u001b[0m\u001b[0mx\u001b[0m\u001b[0;34m[\u001b[0m\u001b[0;36m0\u001b[0m\u001b[0;34m]\u001b[0m \u001b[0;34m==\u001b[0m \u001b[0my\u001b[0m\u001b[0;34m[\u001b[0m\u001b[0;34m-\u001b[0m\u001b[0;36m1\u001b[0m\u001b[0;34m]\u001b[0m\u001b[0;34m)\u001b[0m \u001b[0;32mand\u001b[0m \u001b[0mx\u001b[0m\u001b[0;34m!=\u001b[0m\u001b[0my\u001b[0m \u001b[0;32mand\u001b[0m \u001b[0mx\u001b[0m\u001b[0;34m!=\u001b[0m\u001b[0my\u001b[0m\u001b[0;34m[\u001b[0m\u001b[0;34m:\u001b[0m\u001b[0;34m:\u001b[0m\u001b[0;34m-\u001b[0m\u001b[0;36m1\u001b[0m\u001b[0;34m]\u001b[0m\u001b[0;34m)\u001b[0m\u001b[0;34m]\u001b[0m\u001b[0;34m.\u001b[0m\u001b[0mvalues\u001b[0m\u001b[0;34m)\u001b[0m\u001b[0;34m\u001b[0m\u001b[0;34m\u001b[0m\u001b[0m\n\u001b[0;32m--> 145\u001b[0;31m         \u001b[0mouts\u001b[0m \u001b[0;34m=\u001b[0m \u001b[0msegs\u001b[0m\u001b[0;34m.\u001b[0m\u001b[0mnodes\u001b[0m\u001b[0;34m.\u001b[0m\u001b[0mapply\u001b[0m\u001b[0;34m(\u001b[0m\u001b[0;32mlambda\u001b[0m \u001b[0mx\u001b[0m \u001b[0;34m:\u001b[0m \u001b[0msegs\u001b[0m\u001b[0;34m.\u001b[0m\u001b[0mindex\u001b[0m\u001b[0;34m[\u001b[0m\u001b[0msegs\u001b[0m\u001b[0;34m.\u001b[0m\u001b[0mnodes\u001b[0m\u001b[0;34m.\u001b[0m\u001b[0mapply\u001b[0m\u001b[0;34m(\u001b[0m\u001b[0;32mlambda\u001b[0m \u001b[0my\u001b[0m \u001b[0;34m:\u001b[0m \u001b[0;34m(\u001b[0m\u001b[0mx\u001b[0m\u001b[0;34m[\u001b[0m\u001b[0;34m-\u001b[0m\u001b[0;36m1\u001b[0m\u001b[0;34m]\u001b[0m \u001b[0;34m==\u001b[0m \u001b[0my\u001b[0m\u001b[0;34m[\u001b[0m\u001b[0;36m0\u001b[0m\u001b[0;34m]\u001b[0m\u001b[0;34m)\u001b[0m \u001b[0;32mand\u001b[0m \u001b[0mx\u001b[0m\u001b[0;34m!=\u001b[0m\u001b[0my\u001b[0m \u001b[0;32mand\u001b[0m \u001b[0mx\u001b[0m\u001b[0;34m!=\u001b[0m\u001b[0my\u001b[0m\u001b[0;34m[\u001b[0m\u001b[0;34m:\u001b[0m\u001b[0;34m:\u001b[0m\u001b[0;34m-\u001b[0m\u001b[0;36m1\u001b[0m\u001b[0;34m]\u001b[0m\u001b[0;34m)\u001b[0m\u001b[0;34m]\u001b[0m\u001b[0;34m.\u001b[0m\u001b[0mvalues\u001b[0m\u001b[0;34m)\u001b[0m\u001b[0;34m\u001b[0m\u001b[0;34m\u001b[0m\u001b[0m\n\u001b[0m\u001b[1;32m    146\u001b[0m \u001b[0;34m\u001b[0m\u001b[0m\n\u001b[1;32m    147\u001b[0m     \u001b[0mins\u001b[0m \u001b[0;34m=\u001b[0m \u001b[0mins\u001b[0m\u001b[0;34m.\u001b[0m\u001b[0mgroupby\u001b[0m\u001b[0;34m(\u001b[0m\u001b[0;34m'segmentIndex'\u001b[0m\u001b[0;34m)\u001b[0m\u001b[0;34m.\u001b[0m\u001b[0mapply\u001b[0m\u001b[0;34m(\u001b[0m\u001b[0;32mlambda\u001b[0m \u001b[0mx\u001b[0m \u001b[0;34m:\u001b[0m \u001b[0mnp\u001b[0m\u001b[0;34m.\u001b[0m\u001b[0munique\u001b[0m\u001b[0;34m(\u001b[0m\u001b[0mnp\u001b[0m\u001b[0;34m.\u001b[0m\u001b[0mconcatenate\u001b[0m\u001b[0;34m(\u001b[0m\u001b[0;34m[\u001b[0m\u001b[0;34m*\u001b[0m\u001b[0mx\u001b[0m\u001b[0;34m]\u001b[0m\u001b[0;34m)\u001b[0m\u001b[0;34m)\u001b[0m\u001b[0;34m)\u001b[0m\u001b[0;34m\u001b[0m\u001b[0;34m\u001b[0m\u001b[0m\n",
      "\u001b[0;32m/usr/lib64/python3.7/site-packages/pandas/core/series.py\u001b[0m in \u001b[0;36mapply\u001b[0;34m(self, func, convert_dtype, args, **kwds)\u001b[0m\n\u001b[1;32m   3191\u001b[0m                 \u001b[0mmapped\u001b[0m \u001b[0;34m=\u001b[0m \u001b[0mself\u001b[0m\u001b[0;34m.\u001b[0m\u001b[0m_values\u001b[0m\u001b[0;34m.\u001b[0m\u001b[0mmap\u001b[0m\u001b[0;34m(\u001b[0m\u001b[0mf\u001b[0m\u001b[0;34m)\u001b[0m\u001b[0;34m\u001b[0m\u001b[0;34m\u001b[0m\u001b[0m\n\u001b[1;32m   3192\u001b[0m             \u001b[0;32melse\u001b[0m\u001b[0;34m:\u001b[0m\u001b[0;34m\u001b[0m\u001b[0;34m\u001b[0m\u001b[0m\n\u001b[0;32m-> 3193\u001b[0;31m                 \u001b[0mvalues\u001b[0m \u001b[0;34m=\u001b[0m \u001b[0mself\u001b[0m\u001b[0;34m.\u001b[0m\u001b[0mastype\u001b[0m\u001b[0;34m(\u001b[0m\u001b[0mobject\u001b[0m\u001b[0;34m)\u001b[0m\u001b[0;34m.\u001b[0m\u001b[0mvalues\u001b[0m\u001b[0;34m\u001b[0m\u001b[0;34m\u001b[0m\u001b[0m\n\u001b[0m\u001b[1;32m   3194\u001b[0m                 \u001b[0mmapped\u001b[0m \u001b[0;34m=\u001b[0m \u001b[0mlib\u001b[0m\u001b[0;34m.\u001b[0m\u001b[0mmap_infer\u001b[0m\u001b[0;34m(\u001b[0m\u001b[0mvalues\u001b[0m\u001b[0;34m,\u001b[0m \u001b[0mf\u001b[0m\u001b[0;34m,\u001b[0m \u001b[0mconvert\u001b[0m\u001b[0;34m=\u001b[0m\u001b[0mconvert_dtype\u001b[0m\u001b[0;34m)\u001b[0m\u001b[0;34m\u001b[0m\u001b[0;34m\u001b[0m\u001b[0m\n\u001b[1;32m   3195\u001b[0m \u001b[0;34m\u001b[0m\u001b[0m\n",
      "\u001b[0;32m/usr/lib64/python3.7/site-packages/pandas/util/_decorators.py\u001b[0m in \u001b[0;36mwrapper\u001b[0;34m(*args, **kwargs)\u001b[0m\n\u001b[1;32m    176\u001b[0m                 \u001b[0;32melse\u001b[0m\u001b[0;34m:\u001b[0m\u001b[0;34m\u001b[0m\u001b[0;34m\u001b[0m\u001b[0m\n\u001b[1;32m    177\u001b[0m                     \u001b[0mkwargs\u001b[0m\u001b[0;34m[\u001b[0m\u001b[0mnew_arg_name\u001b[0m\u001b[0;34m]\u001b[0m \u001b[0;34m=\u001b[0m \u001b[0mnew_arg_value\u001b[0m\u001b[0;34m\u001b[0m\u001b[0;34m\u001b[0m\u001b[0m\n\u001b[0;32m--> 178\u001b[0;31m             \u001b[0;32mreturn\u001b[0m \u001b[0mfunc\u001b[0m\u001b[0;34m(\u001b[0m\u001b[0;34m*\u001b[0m\u001b[0margs\u001b[0m\u001b[0;34m,\u001b[0m \u001b[0;34m**\u001b[0m\u001b[0mkwargs\u001b[0m\u001b[0;34m)\u001b[0m\u001b[0;34m\u001b[0m\u001b[0;34m\u001b[0m\u001b[0m\n\u001b[0m\u001b[1;32m    179\u001b[0m         \u001b[0;32mreturn\u001b[0m \u001b[0mwrapper\u001b[0m\u001b[0;34m\u001b[0m\u001b[0;34m\u001b[0m\u001b[0m\n\u001b[1;32m    180\u001b[0m     \u001b[0;32mreturn\u001b[0m \u001b[0m_deprecate_kwarg\u001b[0m\u001b[0;34m\u001b[0m\u001b[0;34m\u001b[0m\u001b[0m\n",
      "\u001b[0;32m/usr/lib64/python3.7/site-packages/pandas/core/generic.py\u001b[0m in \u001b[0;36mastype\u001b[0;34m(self, dtype, copy, errors, **kwargs)\u001b[0m\n\u001b[1;32m   4999\u001b[0m             \u001b[0;31m# else, only a single dtype is given\u001b[0m\u001b[0;34m\u001b[0m\u001b[0;34m\u001b[0m\u001b[0;34m\u001b[0m\u001b[0m\n\u001b[1;32m   5000\u001b[0m             new_data = self._data.astype(dtype=dtype, copy=copy, errors=errors,\n\u001b[0;32m-> 5001\u001b[0;31m                                          **kwargs)\n\u001b[0m\u001b[1;32m   5002\u001b[0m             \u001b[0;32mreturn\u001b[0m \u001b[0mself\u001b[0m\u001b[0;34m.\u001b[0m\u001b[0m_constructor\u001b[0m\u001b[0;34m(\u001b[0m\u001b[0mnew_data\u001b[0m\u001b[0;34m)\u001b[0m\u001b[0;34m.\u001b[0m\u001b[0m__finalize__\u001b[0m\u001b[0;34m(\u001b[0m\u001b[0mself\u001b[0m\u001b[0;34m)\u001b[0m\u001b[0;34m\u001b[0m\u001b[0;34m\u001b[0m\u001b[0m\n\u001b[1;32m   5003\u001b[0m \u001b[0;34m\u001b[0m\u001b[0m\n",
      "\u001b[0;32m/usr/lib64/python3.7/site-packages/pandas/core/internals.py\u001b[0m in \u001b[0;36mastype\u001b[0;34m(self, dtype, **kwargs)\u001b[0m\n\u001b[1;32m   3712\u001b[0m \u001b[0;34m\u001b[0m\u001b[0m\n\u001b[1;32m   3713\u001b[0m     \u001b[0;32mdef\u001b[0m \u001b[0mastype\u001b[0m\u001b[0;34m(\u001b[0m\u001b[0mself\u001b[0m\u001b[0;34m,\u001b[0m \u001b[0mdtype\u001b[0m\u001b[0;34m,\u001b[0m \u001b[0;34m**\u001b[0m\u001b[0mkwargs\u001b[0m\u001b[0;34m)\u001b[0m\u001b[0;34m:\u001b[0m\u001b[0;34m\u001b[0m\u001b[0;34m\u001b[0m\u001b[0m\n\u001b[0;32m-> 3714\u001b[0;31m         \u001b[0;32mreturn\u001b[0m \u001b[0mself\u001b[0m\u001b[0;34m.\u001b[0m\u001b[0mapply\u001b[0m\u001b[0;34m(\u001b[0m\u001b[0;34m'astype'\u001b[0m\u001b[0;34m,\u001b[0m \u001b[0mdtype\u001b[0m\u001b[0;34m=\u001b[0m\u001b[0mdtype\u001b[0m\u001b[0;34m,\u001b[0m \u001b[0;34m**\u001b[0m\u001b[0mkwargs\u001b[0m\u001b[0;34m)\u001b[0m\u001b[0;34m\u001b[0m\u001b[0;34m\u001b[0m\u001b[0m\n\u001b[0m\u001b[1;32m   3715\u001b[0m \u001b[0;34m\u001b[0m\u001b[0m\n\u001b[1;32m   3716\u001b[0m     \u001b[0;32mdef\u001b[0m \u001b[0mconvert\u001b[0m\u001b[0;34m(\u001b[0m\u001b[0mself\u001b[0m\u001b[0;34m,\u001b[0m \u001b[0;34m**\u001b[0m\u001b[0mkwargs\u001b[0m\u001b[0;34m)\u001b[0m\u001b[0;34m:\u001b[0m\u001b[0;34m\u001b[0m\u001b[0;34m\u001b[0m\u001b[0m\n",
      "\u001b[0;32m/usr/lib64/python3.7/site-packages/pandas/core/internals.py\u001b[0m in \u001b[0;36mapply\u001b[0;34m(self, f, axes, filter, do_integrity_check, consolidate, **kwargs)\u001b[0m\n\u001b[1;32m   3579\u001b[0m \u001b[0;34m\u001b[0m\u001b[0m\n\u001b[1;32m   3580\u001b[0m             \u001b[0mkwargs\u001b[0m\u001b[0;34m[\u001b[0m\u001b[0;34m'mgr'\u001b[0m\u001b[0;34m]\u001b[0m \u001b[0;34m=\u001b[0m \u001b[0mself\u001b[0m\u001b[0;34m\u001b[0m\u001b[0;34m\u001b[0m\u001b[0m\n\u001b[0;32m-> 3581\u001b[0;31m             \u001b[0mapplied\u001b[0m \u001b[0;34m=\u001b[0m \u001b[0mgetattr\u001b[0m\u001b[0;34m(\u001b[0m\u001b[0mb\u001b[0m\u001b[0;34m,\u001b[0m \u001b[0mf\u001b[0m\u001b[0;34m)\u001b[0m\u001b[0;34m(\u001b[0m\u001b[0;34m**\u001b[0m\u001b[0mkwargs\u001b[0m\u001b[0;34m)\u001b[0m\u001b[0;34m\u001b[0m\u001b[0;34m\u001b[0m\u001b[0m\n\u001b[0m\u001b[1;32m   3582\u001b[0m             \u001b[0mresult_blocks\u001b[0m \u001b[0;34m=\u001b[0m \u001b[0m_extend_blocks\u001b[0m\u001b[0;34m(\u001b[0m\u001b[0mapplied\u001b[0m\u001b[0;34m,\u001b[0m \u001b[0mresult_blocks\u001b[0m\u001b[0;34m)\u001b[0m\u001b[0;34m\u001b[0m\u001b[0;34m\u001b[0m\u001b[0m\n\u001b[1;32m   3583\u001b[0m \u001b[0;34m\u001b[0m\u001b[0m\n",
      "\u001b[0;32m/usr/lib64/python3.7/site-packages/pandas/core/internals.py\u001b[0m in \u001b[0;36mastype\u001b[0;34m(self, dtype, copy, errors, values, **kwargs)\u001b[0m\n\u001b[1;32m    573\u001b[0m     \u001b[0;32mdef\u001b[0m \u001b[0mastype\u001b[0m\u001b[0;34m(\u001b[0m\u001b[0mself\u001b[0m\u001b[0;34m,\u001b[0m \u001b[0mdtype\u001b[0m\u001b[0;34m,\u001b[0m \u001b[0mcopy\u001b[0m\u001b[0;34m=\u001b[0m\u001b[0;32mFalse\u001b[0m\u001b[0;34m,\u001b[0m \u001b[0merrors\u001b[0m\u001b[0;34m=\u001b[0m\u001b[0;34m'raise'\u001b[0m\u001b[0;34m,\u001b[0m \u001b[0mvalues\u001b[0m\u001b[0;34m=\u001b[0m\u001b[0;32mNone\u001b[0m\u001b[0;34m,\u001b[0m \u001b[0;34m**\u001b[0m\u001b[0mkwargs\u001b[0m\u001b[0;34m)\u001b[0m\u001b[0;34m:\u001b[0m\u001b[0;34m\u001b[0m\u001b[0;34m\u001b[0m\u001b[0m\n\u001b[1;32m    574\u001b[0m         return self._astype(dtype, copy=copy, errors=errors, values=values,\n\u001b[0;32m--> 575\u001b[0;31m                             **kwargs)\n\u001b[0m\u001b[1;32m    576\u001b[0m \u001b[0;34m\u001b[0m\u001b[0m\n\u001b[1;32m    577\u001b[0m     def _astype(self, dtype, copy=False, errors='raise', values=None,\n",
      "\u001b[0;32m/usr/lib64/python3.7/site-packages/pandas/core/internals.py\u001b[0m in \u001b[0;36m_astype\u001b[0;34m(self, dtype, copy, errors, values, klass, mgr, **kwargs)\u001b[0m\n\u001b[1;32m    637\u001b[0m         \u001b[0;32mif\u001b[0m \u001b[0mself\u001b[0m\u001b[0;34m.\u001b[0m\u001b[0mdtype\u001b[0m \u001b[0;34m==\u001b[0m \u001b[0mdtype\u001b[0m\u001b[0;34m:\u001b[0m\u001b[0;34m\u001b[0m\u001b[0;34m\u001b[0m\u001b[0m\n\u001b[1;32m    638\u001b[0m             \u001b[0;32mif\u001b[0m \u001b[0mcopy\u001b[0m\u001b[0;34m:\u001b[0m\u001b[0;34m\u001b[0m\u001b[0;34m\u001b[0m\u001b[0m\n\u001b[0;32m--> 639\u001b[0;31m                 \u001b[0;32mreturn\u001b[0m \u001b[0mself\u001b[0m\u001b[0;34m.\u001b[0m\u001b[0mcopy\u001b[0m\u001b[0;34m(\u001b[0m\u001b[0;34m)\u001b[0m\u001b[0;34m\u001b[0m\u001b[0;34m\u001b[0m\u001b[0m\n\u001b[0m\u001b[1;32m    640\u001b[0m             \u001b[0;32mreturn\u001b[0m \u001b[0mself\u001b[0m\u001b[0;34m\u001b[0m\u001b[0;34m\u001b[0m\u001b[0m\n\u001b[1;32m    641\u001b[0m \u001b[0;34m\u001b[0m\u001b[0m\n",
      "\u001b[0;32m/usr/lib64/python3.7/site-packages/pandas/core/internals.py\u001b[0m in \u001b[0;36mcopy\u001b[0;34m(self, deep, mgr)\u001b[0m\n\u001b[1;32m    776\u001b[0m         \u001b[0mvalues\u001b[0m \u001b[0;34m=\u001b[0m \u001b[0mself\u001b[0m\u001b[0;34m.\u001b[0m\u001b[0mvalues\u001b[0m\u001b[0;34m\u001b[0m\u001b[0;34m\u001b[0m\u001b[0m\n\u001b[1;32m    777\u001b[0m         \u001b[0;32mif\u001b[0m \u001b[0mdeep\u001b[0m\u001b[0;34m:\u001b[0m\u001b[0;34m\u001b[0m\u001b[0;34m\u001b[0m\u001b[0m\n\u001b[0;32m--> 778\u001b[0;31m             \u001b[0mvalues\u001b[0m \u001b[0;34m=\u001b[0m \u001b[0mvalues\u001b[0m\u001b[0;34m.\u001b[0m\u001b[0mcopy\u001b[0m\u001b[0;34m(\u001b[0m\u001b[0;34m)\u001b[0m\u001b[0;34m\u001b[0m\u001b[0;34m\u001b[0m\u001b[0m\n\u001b[0m\u001b[1;32m    779\u001b[0m         \u001b[0;32mreturn\u001b[0m \u001b[0mself\u001b[0m\u001b[0;34m.\u001b[0m\u001b[0mmake_block_same_class\u001b[0m\u001b[0;34m(\u001b[0m\u001b[0mvalues\u001b[0m\u001b[0;34m)\u001b[0m\u001b[0;34m\u001b[0m\u001b[0;34m\u001b[0m\u001b[0m\n\u001b[1;32m    780\u001b[0m \u001b[0;34m\u001b[0m\u001b[0m\n",
      "\u001b[0;31mKeyboardInterrupt\u001b[0m: "
     ]
    }
   ],
   "source": [
    "mergeResults,fmap = osmMerger.mergeSegments(minValidData = osmMerger.MIN_VALID_DATA, weights=osmMerger.WEIGHTS,speedsMx=speeds)"
   ]
  },
  {
   "cell_type": "code",
   "execution_count": 651,
   "metadata": {},
   "outputs": [],
   "source": [
    "snapShot=mergedSegments[(mergedSegments.nonNullProp>0.8)]"
   ]
  },
  {
   "cell_type": "code",
   "execution_count": 652,
   "metadata": {},
   "outputs": [],
   "source": [
    "mergeResults = inversedIndex.loc[inversedIndex.isin(snapShot.index)]"
   ]
  },
  {
   "cell_type": "code",
   "execution_count": 29,
   "metadata": {},
   "outputs": [],
   "source": [
    "fmap  = Plotting.getFoliumMap()\n",
    "layer = getMergeLayer(fmap,mergeResults,snapShot,segmentsMeta,'layer ahahah')\n",
    "fmap  = Plotting.stackHistotyLayers([layer],fmap)\n",
    "fmap.save('Roads.html')"
   ]
  },
  {
   "cell_type": "code",
   "execution_count": 28,
   "metadata": {},
   "outputs": [
    {
     "data": {
      "text/plain": [
       "<folium.plugins.feature_group_sub_group.FeatureGroupSubGroup at 0x7f563df767f0>"
      ]
     },
     "execution_count": 28,
     "metadata": {},
     "output_type": "execute_result"
    }
   ],
   "source": [
    "fmap  = Plotting.getFoliumMap()\n",
    "layer = Plotting.saveBigMergesMap(mergeResults,segmentsMeta,fmap=fmap,name=\"biggest 15\")\n",
    "fmap  = Plotting.stackHistotyLayers([layer],fmap)\n",
    "fmap.save('steps.html')"
   ]
  },
  {
   "cell_type": "code",
   "execution_count": 656,
   "metadata": {},
   "outputs": [],
   "source": [
    "fmap  = Plotting.getFoliumMap()\n",
    "layers = makePercentageSnapShots(fmap,mergedSegments,inversedIndex,segmentsMeta)\n",
    "fmap  = Plotting.stackHistotyLayers(layers,fmap)\n",
    "fmap.save('RoadsPer10Percents.html')"
   ]
  }
 ],
 "metadata": {
  "kernelspec": {
   "display_name": "Python 3",
   "language": "python",
   "name": "python3"
  },
  "language_info": {
   "codemirror_mode": {
    "name": "ipython",
    "version": 2
   },
   "file_extension": ".py",
   "mimetype": "text/x-python",
   "name": "python",
   "nbconvert_exporter": "python",
   "pygments_lexer": "ipython2",
   "version": "2.7.16"
  },
  "notify_time": "30"
 },
 "nbformat": 4,
 "nbformat_minor": 2
}

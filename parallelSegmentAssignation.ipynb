{
 "cells": [
  {
   "cell_type": "code",
   "execution_count": 9,
   "metadata": {
    "collapsed": true
   },
   "outputs": [],
   "source": [
    "from pymongo import MongoClient\n",
    "import numpy as np\n",
    "import pandas as pd\n",
    "import time"
   ]
  },
  {
   "cell_type": "code",
   "execution_count": 2,
   "metadata": {
    "collapsed": true
   },
   "outputs": [],
   "source": [
    "import ipyparallel as ipp\n",
    "rc = ipp.Client()\n",
    "parll=rc[:]"
   ]
  },
  {
   "cell_type": "code",
   "execution_count": 3,
   "metadata": {
    "collapsed": true
   },
   "outputs": [],
   "source": [
    "def initParallelClients():\n",
    "    parll.push({'client':None})\n",
    "    r=parll.map(initMongos, range(len(parll)))\n",
    "    r.get();\n",
    "def initMongos(x):\n",
    "    global client\n",
    "    from pymongo import MongoClient\n",
    "    client = MongoClient()\n",
    "initParallelClients()"
   ]
  },
  {
   "cell_type": "code",
   "execution_count": 5,
   "metadata": {
    "collapsed": true
   },
   "outputs": [],
   "source": [
    "client = MongoClient()\n",
    "dbRennes = client.congestion"
   ]
  },
  {
   "cell_type": "code",
   "execution_count": 6,
   "metadata": {
    "collapsed": true
   },
   "outputs": [],
   "source": [
    "myPoints = list(dbRennes.coyote.find({},{'loc':1,'_id':0}))"
   ]
  },
  {
   "cell_type": "code",
   "execution_count": 42,
   "metadata": {
    "collapsed": true
   },
   "outputs": [],
   "source": [
    "def parallelClosestSegment(myPoint):\n",
    "    res=client.osm.ways.find(\n",
    "    {   \n",
    "        \"loc\":\n",
    "        {\n",
    "         \"$near\": {\n",
    "            \"$geometry\": myPoint['loc'],\n",
    "            \"$maxDistance\": 20,\n",
    "         }\n",
    "       },\n",
    "        'tag.k':\"highway\",\n",
    "        \"tag.v\": {\n",
    "          \"$in\": [\n",
    "            \"motorway\", \n",
    "            \"trunk\", \n",
    "            \"primary\",\n",
    "            \"secondary\", \n",
    "            \"tertiary\", \n",
    "            \"motorway_link\", \n",
    "            \"trunk_link\", \n",
    "            \"primary_link\",\n",
    "            \"secondary_link\", \n",
    "            \"tertiary_link\",\n",
    "            \"unclassified\",\n",
    "            \"residential\",\n",
    "            \"service\"\n",
    "          ]\n",
    "        }        \n",
    "    },{'loc':1,'_id':1}\n",
    "    ).limit(1)\n",
    "    return next(res,{'_id':'N/A'})['_id']"
   ]
  },
  {
   "cell_type": "code",
   "execution_count": 43,
   "metadata": {},
   "outputs": [
    {
     "name": "stdout",
     "output_type": "stream",
     "text": [
      "took 8710.492 ms\n"
     ]
    }
   ],
   "source": [
    "startTime = time.time()\n",
    "segmentIDS=parll.map(parallelClosestSegment,myPoints)\n",
    "segmentIDS=segmentIDS.get()\n",
    "endTime = time.time()\n",
    "print('took {:.3f} ms'.format((endTime-startTime)*1000.0))"
   ]
  },
  {
   "cell_type": "code",
   "execution_count": null,
   "metadata": {
    "collapsed": true
   },
   "outputs": [],
   "source": [
    "myPointsDF=pd.DataFrame(list(dbRennes.coyote.find({})))\n",
    "myPointsDF.matching_road=segmentIDS"
   ]
  },
  {
   "cell_type": "code",
   "execution_count": null,
   "metadata": {
    "collapsed": true
   },
   "outputs": [],
   "source": [
    "myPointsDF"
   ]
  }
 ],
 "metadata": {
  "kernelspec": {
   "display_name": "Python 3",
   "language": "python",
   "name": "python3"
  },
  "language_info": {
   "codemirror_mode": {
    "name": "ipython",
    "version": 3
   },
   "file_extension": ".py",
   "mimetype": "text/x-python",
   "name": "python",
   "nbconvert_exporter": "python",
   "pygments_lexer": "ipython3",
   "version": "3.6.1"
  }
 },
 "nbformat": 4,
 "nbformat_minor": 2
}

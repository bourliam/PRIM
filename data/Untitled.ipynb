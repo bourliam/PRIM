{
 "cells": [
  {
   "cell_type": "markdown",
   "metadata": {},
   "source": [
    "# Creating Zs"
   ]
  },
  {
   "cell_type": "code",
   "execution_count": 1,
   "metadata": {},
   "outputs": [],
   "source": [
    "import numpy as np\n",
    "import pandas as pd\n",
    "import pprint\n",
    "import matplotlib\n",
    "import matplotlib.pyplot as plt        \n",
    "import sys\n",
    "\n",
    "sys.path.append('../scripts/')\n",
    "from models import BaseModels, DataCleaner, ModelPlots, DataModel\n",
    "\n",
    "from sklearn import linear_model\n",
    "from sklearn.metrics import mean_squared_error\n",
    "from sklearn.metrics import mean_absolute_error"
   ]
  },
  {
   "cell_type": "code",
   "execution_count": 2,
   "metadata": {},
   "outputs": [],
   "source": [
    "mergeResults=pd.read_pickle(\"../data/mergeResults.pckl\")\n",
    "segmentsMeta=pd.read_pickle(\"../data/segmentsMeta.pckl\")\n",
    "speeds = pd.read_pickle(\"../data/monthsSpeed__0.pckl\")\n",
    "counts = pd.read_pickle('../data/monthsCount__0.pckl')\n",
    "data_cleaner = DataCleaner(speeds, segmentsMeta, mergeResults, counts)\n",
    "speedDF = data_cleaner.data\n",
    "countDF = data_cleaner.counts\n",
    "nSegments = len(speedDF)\n",
    "input_lag, output_lag, sequence_length = 5, 1, 20\n",
    "valid_split = 0.67\n",
    "\n",
    "data_model = DataModel(speedDF, 1, output_lag, sequence_length, valid_split = valid_split, scale_max = False, shift_mean=False)\n",
    "data_model.preprocessData()\n",
    "X_train, y_train, X_test, y_test = data_model.trainSplit()"
   ]
  },
  {
   "cell_type": "code",
   "execution_count": 25,
   "metadata": {},
   "outputs": [
    {
     "data": {
      "text/plain": [
       "65.0"
      ]
     },
     "execution_count": 25,
     "metadata": {},
     "output_type": "execute_result"
    }
   ],
   "source": [
    "speedDF.shape[1]/20"
   ]
  },
  {
   "cell_type": "code",
   "execution_count": 64,
   "metadata": {},
   "outputs": [
    {
     "name": "stdout",
     "output_type": "stream",
     "text": [
      "n= 65\n"
     ]
    }
   ],
   "source": [
    "E = []\n",
    "\n",
    "for i in range(int((speedDF.shape[1])/20)):\n",
    "    E.append(speedDF.iloc[:,i*20:(i+1)*20].values)\n",
    "n = len(E)\n",
    "print(\"n=\", n)"
   ]
  },
  {
   "cell_type": "code",
   "execution_count": 65,
   "metadata": {},
   "outputs": [
    {
     "data": {
      "text/plain": [
       "array([[27.        ,  8.75      , 15.33333333, ..., 18.83333333,\n",
       "        12.61666667,  0.        ],\n",
       "       [ 5.5       , 17.375     , 21.33333333, ..., 10.        ,\n",
       "        16.        , 19.        ],\n",
       "       [82.5       , 86.5       , 51.        , ..., 83.25      ,\n",
       "        76.11190476, 80.        ],\n",
       "       ...,\n",
       "       [32.        , 59.        , 58.16666667, ..., 63.64285714,\n",
       "        51.8       , 59.02380952],\n",
       "       [61.25      , 57.66666667, 64.        , ..., 58.91308081,\n",
       "        83.        , 46.4       ],\n",
       "       [40.        , 60.75      , 60.6       , ..., 58.        ,\n",
       "        51.16666667, 54.71428571]])"
      ]
     },
     "execution_count": 65,
     "metadata": {},
     "output_type": "execute_result"
    }
   ],
   "source": [
    "E[64]"
   ]
  },
  {
   "cell_type": "code",
   "execution_count": 37,
   "metadata": {},
   "outputs": [
    {
     "data": {
      "text/plain": [
       "(556, 20)"
      ]
     },
     "execution_count": 37,
     "metadata": {},
     "output_type": "execute_result"
    }
   ],
   "source": [
    "Z[0].shape"
   ]
  },
  {
   "cell_type": "code",
   "execution_count": 41,
   "metadata": {},
   "outputs": [],
   "source": [
    "Z = np.array(Z)\n",
    "M = Z.sum(axis=0)"
   ]
  },
  {
   "cell_type": "code",
   "execution_count": 44,
   "metadata": {},
   "outputs": [
    {
     "data": {
      "text/plain": [
       "array([[ 810.99263897,  864.67484028,  762.68268456, ...,  781.23100196,\n",
       "         779.04550629,  993.25941698],\n",
       "       [1108.86394601,  977.28305939,  976.12970009, ..., 1485.28810196,\n",
       "        1257.06426367, 1226.98940678],\n",
       "       [4786.21986017, 4837.04761905, 4669.47870164, ..., 4686.17447307,\n",
       "        4871.16190476, 5002.98894558],\n",
       "       ...,\n",
       "       [3815.2413499 , 3808.03694255, 3532.85562809, ..., 3907.52589808,\n",
       "        3385.2260101 , 3697.70380952],\n",
       "       [3789.69606481, 3883.45908593, 3800.71962233, ..., 3770.43717172,\n",
       "        4494.2040743 , 4402.5375    ],\n",
       "       [3603.70342523, 3665.38418079, 3627.57029863, ..., 3702.89380952,\n",
       "        3619.63143004, 3524.89215686]])"
      ]
     },
     "execution_count": 44,
     "metadata": {},
     "output_type": "execute_result"
    }
   ],
   "source": [
    "M"
   ]
  },
  {
   "cell_type": "code",
   "execution_count": 45,
   "metadata": {},
   "outputs": [],
   "source": [
    "for i in range(n):\n",
    "    Z[i] = Z[i] - (1/n)*M"
   ]
  },
  {
   "cell_type": "code",
   "execution_count": 61,
   "metadata": {},
   "outputs": [
    {
     "data": {
      "text/plain": [
       "6.661338147750939e-16"
      ]
     },
     "execution_count": 61,
     "metadata": {},
     "output_type": "execute_result"
    }
   ],
   "source": [
    "Z[:,1,2].mean()"
   ]
  }
 ],
 "metadata": {
  "kernelspec": {
   "display_name": "Python 3",
   "language": "python",
   "name": "python3"
  },
  "language_info": {
   "codemirror_mode": {
    "name": "ipython",
    "version": 3
   },
   "file_extension": ".py",
   "mimetype": "text/x-python",
   "name": "python",
   "nbconvert_exporter": "python",
   "pygments_lexer": "ipython3",
   "version": "3.7.3"
  }
 },
 "nbformat": 4,
 "nbformat_minor": 2
}
